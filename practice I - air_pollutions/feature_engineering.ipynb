{
 "cells": [
  {
   "cell_type": "code",
   "execution_count": 1,
   "metadata": {},
   "outputs": [],
   "source": [
    "import numpy as np\n",
    "import pandas as pd"
   ]
  },
  {
   "cell_type": "code",
   "execution_count": 2,
   "metadata": {},
   "outputs": [],
   "source": [
    "from matplotlib import pyplot as plt\n",
    "import seaborn as sns\n",
    "from pylab import rcParams"
   ]
  },
  {
   "cell_type": "code",
   "execution_count": 3,
   "metadata": {},
   "outputs": [],
   "source": [
    "df = pd.read_csv('train.csv')"
   ]
  },
  {
   "cell_type": "code",
   "execution_count": 4,
   "metadata": {},
   "outputs": [],
   "source": [
    "df['date_time'] = pd.to_datetime(df['date_time'])"
   ]
  },
  {
   "cell_type": "code",
   "execution_count": 5,
   "metadata": {},
   "outputs": [
    {
     "data": {
      "text/html": [
       "<div>\n",
       "<style scoped>\n",
       "    .dataframe tbody tr th:only-of-type {\n",
       "        vertical-align: middle;\n",
       "    }\n",
       "\n",
       "    .dataframe tbody tr th {\n",
       "        vertical-align: top;\n",
       "    }\n",
       "\n",
       "    .dataframe thead th {\n",
       "        text-align: right;\n",
       "    }\n",
       "</style>\n",
       "<table border=\"1\" class=\"dataframe\">\n",
       "  <thead>\n",
       "    <tr style=\"text-align: right;\">\n",
       "      <th></th>\n",
       "      <th>date_time</th>\n",
       "      <th>deg_C</th>\n",
       "      <th>relative_humidity</th>\n",
       "      <th>absolute_humidity</th>\n",
       "      <th>sensor_1</th>\n",
       "      <th>sensor_2</th>\n",
       "      <th>sensor_3</th>\n",
       "      <th>sensor_4</th>\n",
       "      <th>sensor_5</th>\n",
       "      <th>target_carbon_monoxide</th>\n",
       "      <th>target_benzene</th>\n",
       "      <th>target_nitrogen_oxides</th>\n",
       "      <th>day</th>\n",
       "      <th>hour</th>\n",
       "    </tr>\n",
       "  </thead>\n",
       "  <tbody>\n",
       "    <tr>\n",
       "      <th>0</th>\n",
       "      <td>2010-03-10 18:00:00</td>\n",
       "      <td>13.1</td>\n",
       "      <td>46.0</td>\n",
       "      <td>0.7578</td>\n",
       "      <td>1387.2</td>\n",
       "      <td>1087.8</td>\n",
       "      <td>1056.0</td>\n",
       "      <td>1742.8</td>\n",
       "      <td>1293.4</td>\n",
       "      <td>2.5</td>\n",
       "      <td>12.0</td>\n",
       "      <td>167.7</td>\n",
       "      <td>10</td>\n",
       "      <td>18</td>\n",
       "    </tr>\n",
       "    <tr>\n",
       "      <th>1</th>\n",
       "      <td>2010-03-10 19:00:00</td>\n",
       "      <td>13.2</td>\n",
       "      <td>45.3</td>\n",
       "      <td>0.7255</td>\n",
       "      <td>1279.1</td>\n",
       "      <td>888.2</td>\n",
       "      <td>1197.5</td>\n",
       "      <td>1449.9</td>\n",
       "      <td>1010.9</td>\n",
       "      <td>2.1</td>\n",
       "      <td>9.9</td>\n",
       "      <td>98.9</td>\n",
       "      <td>10</td>\n",
       "      <td>19</td>\n",
       "    </tr>\n",
       "    <tr>\n",
       "      <th>2</th>\n",
       "      <td>2010-03-10 20:00:00</td>\n",
       "      <td>12.6</td>\n",
       "      <td>56.2</td>\n",
       "      <td>0.7502</td>\n",
       "      <td>1331.9</td>\n",
       "      <td>929.6</td>\n",
       "      <td>1060.2</td>\n",
       "      <td>1586.1</td>\n",
       "      <td>1117.0</td>\n",
       "      <td>2.2</td>\n",
       "      <td>9.2</td>\n",
       "      <td>127.1</td>\n",
       "      <td>10</td>\n",
       "      <td>20</td>\n",
       "    </tr>\n",
       "    <tr>\n",
       "      <th>3</th>\n",
       "      <td>2010-03-10 21:00:00</td>\n",
       "      <td>11.0</td>\n",
       "      <td>62.4</td>\n",
       "      <td>0.7867</td>\n",
       "      <td>1321.0</td>\n",
       "      <td>929.0</td>\n",
       "      <td>1102.9</td>\n",
       "      <td>1536.5</td>\n",
       "      <td>1263.2</td>\n",
       "      <td>2.2</td>\n",
       "      <td>9.7</td>\n",
       "      <td>177.2</td>\n",
       "      <td>10</td>\n",
       "      <td>21</td>\n",
       "    </tr>\n",
       "    <tr>\n",
       "      <th>4</th>\n",
       "      <td>2010-03-10 22:00:00</td>\n",
       "      <td>11.9</td>\n",
       "      <td>59.0</td>\n",
       "      <td>0.7888</td>\n",
       "      <td>1272.0</td>\n",
       "      <td>852.7</td>\n",
       "      <td>1180.9</td>\n",
       "      <td>1415.5</td>\n",
       "      <td>1132.2</td>\n",
       "      <td>1.5</td>\n",
       "      <td>6.4</td>\n",
       "      <td>121.8</td>\n",
       "      <td>10</td>\n",
       "      <td>22</td>\n",
       "    </tr>\n",
       "  </tbody>\n",
       "</table>\n",
       "</div>"
      ],
      "text/plain": [
       "            date_time  deg_C  relative_humidity  absolute_humidity  sensor_1  \\\n",
       "0 2010-03-10 18:00:00   13.1               46.0             0.7578    1387.2   \n",
       "1 2010-03-10 19:00:00   13.2               45.3             0.7255    1279.1   \n",
       "2 2010-03-10 20:00:00   12.6               56.2             0.7502    1331.9   \n",
       "3 2010-03-10 21:00:00   11.0               62.4             0.7867    1321.0   \n",
       "4 2010-03-10 22:00:00   11.9               59.0             0.7888    1272.0   \n",
       "\n",
       "   sensor_2  sensor_3  sensor_4  sensor_5  target_carbon_monoxide  \\\n",
       "0    1087.8    1056.0    1742.8    1293.4                     2.5   \n",
       "1     888.2    1197.5    1449.9    1010.9                     2.1   \n",
       "2     929.6    1060.2    1586.1    1117.0                     2.2   \n",
       "3     929.0    1102.9    1536.5    1263.2                     2.2   \n",
       "4     852.7    1180.9    1415.5    1132.2                     1.5   \n",
       "\n",
       "   target_benzene  target_nitrogen_oxides  day  hour  \n",
       "0            12.0                   167.7   10    18  \n",
       "1             9.9                    98.9   10    19  \n",
       "2             9.2                   127.1   10    20  \n",
       "3             9.7                   177.2   10    21  \n",
       "4             6.4                   121.8   10    22  "
      ]
     },
     "execution_count": 5,
     "metadata": {},
     "output_type": "execute_result"
    }
   ],
   "source": [
    "df[\"day\"] = df[\"date_time\"].dt.day\n",
    "df[\"hour\"] = df[\"date_time\"].dt.hour\n",
    "df.head()"
   ]
  },
  {
   "cell_type": "code",
   "execution_count": 6,
   "metadata": {},
   "outputs": [],
   "source": [
    "targets = ['target_carbon_monoxide', 'target_benzene', 'target_nitrogen_oxides']"
   ]
  },
  {
   "cell_type": "code",
   "execution_count": 7,
   "metadata": {},
   "outputs": [],
   "source": [
    "seasons = ['spring', 'summer', 'autumn', 'winter']"
   ]
  },
  {
   "cell_type": "code",
   "execution_count": 8,
   "metadata": {},
   "outputs": [],
   "source": [
    "def season(date):\n",
    "    x = date.month\n",
    "    if x in [12,1,2]:\n",
    "        return 'winter'\n",
    "    elif x in [3,4,5]:\n",
    "        return 'spring'\n",
    "    elif x in [6,7,8]:\n",
    "        return 'summer'\n",
    "    elif x in [9,10,11]:\n",
    "        return 'autumn'"
   ]
  },
  {
   "cell_type": "code",
   "execution_count": 9,
   "metadata": {},
   "outputs": [],
   "source": [
    "df['season'] = df['date_time'].apply(season)"
   ]
  },
  {
   "cell_type": "code",
   "execution_count": 10,
   "metadata": {},
   "outputs": [],
   "source": [
    "months = {1 : 'Jan', 2 : 'Feb', 3 : 'Mar', 4 : 'Apr', 5 : 'May', 6 : 'Jun', 7 : 'Jul',\n",
    "          8 : 'Aug', 9 : 'Sep', 10 : 'Oct', 11 : 'Nov', 12 : 'Dec'}"
   ]
  },
  {
   "cell_type": "code",
   "execution_count": 11,
   "metadata": {},
   "outputs": [],
   "source": [
    "def month(date):\n",
    "    months = {1 : 'Jan', 2 : 'Feb', 3 : 'Mar', 4 : 'Apr', 5 : 'May', 6 : 'Jun', 7 : 'Jul', \n",
    "              8 : 'Aug', 9 : 'Sep', 10 : 'Oct', 11 : 'Nov', 12 : 'Dec'}\n",
    "    return months[int(date.month)]"
   ]
  },
  {
   "cell_type": "code",
   "execution_count": 12,
   "metadata": {},
   "outputs": [],
   "source": [
    "df['month'] = df['date_time'].apply(month)"
   ]
  },
  {
   "cell_type": "code",
   "execution_count": 13,
   "metadata": {},
   "outputs": [],
   "source": [
    "columns = list(df.columns)"
   ]
  },
  {
   "cell_type": "code",
   "execution_count": 14,
   "metadata": {},
   "outputs": [
    {
     "data": {
      "text/plain": [
       "['date_time',\n",
       " 'deg_C',\n",
       " 'relative_humidity',\n",
       " 'absolute_humidity',\n",
       " 'sensor_1',\n",
       " 'sensor_2',\n",
       " 'sensor_3',\n",
       " 'sensor_4',\n",
       " 'sensor_5',\n",
       " 'target_carbon_monoxide',\n",
       " 'target_benzene',\n",
       " 'target_nitrogen_oxides',\n",
       " 'day',\n",
       " 'hour',\n",
       " 'season',\n",
       " 'month']"
      ]
     },
     "execution_count": 14,
     "metadata": {},
     "output_type": "execute_result"
    }
   ],
   "source": [
    "columns"
   ]
  },
  {
   "cell_type": "code",
   "execution_count": 15,
   "metadata": {},
   "outputs": [],
   "source": [
    "columns = list(df.columns)"
   ]
  },
  {
   "cell_type": "code",
   "execution_count": 16,
   "metadata": {},
   "outputs": [
    {
     "data": {
      "text/plain": [
       "['date_time',\n",
       " 'deg_C',\n",
       " 'relative_humidity',\n",
       " 'absolute_humidity',\n",
       " 'sensor_1',\n",
       " 'sensor_2',\n",
       " 'sensor_3',\n",
       " 'sensor_4',\n",
       " 'sensor_5',\n",
       " 'target_carbon_monoxide',\n",
       " 'target_benzene',\n",
       " 'target_nitrogen_oxides',\n",
       " 'day',\n",
       " 'hour',\n",
       " 'season',\n",
       " 'month']"
      ]
     },
     "execution_count": 16,
     "metadata": {},
     "output_type": "execute_result"
    }
   ],
   "source": [
    "columns"
   ]
  },
  {
   "cell_type": "code",
   "execution_count": 17,
   "metadata": {},
   "outputs": [],
   "source": [
    "def lag_feature(df, columns, lag):\n",
    "    for col in columns:\n",
    "        df['lag_' + str(lag) + '_' + col] = df[col].shift(lag)"
   ]
  },
  {
   "cell_type": "code",
   "execution_count": 18,
   "metadata": {},
   "outputs": [],
   "source": [
    "def RWF(series, lag): # rolling window feature\n",
    "    return series.rolling(lag)"
   ]
  },
  {
   "cell_type": "code",
   "execution_count": 19,
   "metadata": {},
   "outputs": [],
   "source": [
    "def EWF(series, lag): # expanding window feature\n",
    "    return series.expanding(lag)"
   ]
  },
  {
   "cell_type": "code",
   "execution_count": 20,
   "metadata": {},
   "outputs": [],
   "source": [
    "from statsmodels.api import tsa\n",
    "from statsmodels.graphics import tsaplots"
   ]
  },
  {
   "cell_type": "code",
   "execution_count": 21,
   "metadata": {},
   "outputs": [
    {
     "data": {
      "text/plain": [
       "['date_time',\n",
       " 'deg_C',\n",
       " 'relative_humidity',\n",
       " 'absolute_humidity',\n",
       " 'sensor_1',\n",
       " 'sensor_2',\n",
       " 'sensor_3',\n",
       " 'sensor_4',\n",
       " 'sensor_5',\n",
       " 'target_carbon_monoxide',\n",
       " 'target_benzene',\n",
       " 'target_nitrogen_oxides',\n",
       " 'day',\n",
       " 'hour',\n",
       " 'season',\n",
       " 'month']"
      ]
     },
     "execution_count": 21,
     "metadata": {},
     "output_type": "execute_result"
    }
   ],
   "source": [
    "columns = list(df.columns)\n",
    "columns"
   ]
  },
  {
   "cell_type": "code",
   "execution_count": 22,
   "metadata": {},
   "outputs": [],
   "source": [
    "for col in columns[16:]:\n",
    "    df[col] = df[col].apply(int)"
   ]
  },
  {
   "cell_type": "code",
   "execution_count": 23,
   "metadata": {},
   "outputs": [],
   "source": [
    "seasons_dict = {'winter' : 1, 'spring' : 2, 'summer' : 3, 'autumn' : 4}"
   ]
  },
  {
   "cell_type": "code",
   "execution_count": 24,
   "metadata": {},
   "outputs": [],
   "source": [
    "df['season'] = df['season'].apply(lambda x : seasons_dict[x])"
   ]
  },
  {
   "cell_type": "code",
   "execution_count": 25,
   "metadata": {},
   "outputs": [],
   "source": [
    "from statsmodels.tsa import seasonal as ssn"
   ]
  },
  {
   "cell_type": "code",
   "execution_count": 26,
   "metadata": {},
   "outputs": [],
   "source": [
    "def get_STL(series, period):\n",
    "    stl = ssn.STL(series, period = period).fit()\n",
    "    return [stl.trend, stl.seasonal,  stl.resid] "
   ]
  },
  {
   "cell_type": "code",
   "execution_count": 27,
   "metadata": {},
   "outputs": [],
   "source": [
    "df['month'] = df['date_time'].dt.month"
   ]
  },
  {
   "cell_type": "code",
   "execution_count": 28,
   "metadata": {},
   "outputs": [],
   "source": [
    "from sklearn.metrics import mean_absolute_error"
   ]
  },
  {
   "cell_type": "code",
   "execution_count": 29,
   "metadata": {},
   "outputs": [],
   "source": [
    "def outliers_frame(series,conf_interval = True, boxplots = True, scale = 1.96, lag = 24 ,perc = [25,75]):\n",
    "    \n",
    "    if boxplots == True:\n",
    "        Q1, Q3 = np.percentile(series, perc)\n",
    "        IQR = Q3 - Q1\n",
    "        [dw, uw] = [Q1 - 1.5*IQR, Q3 + 1.5*IQR]\n",
    "        outliers = np.logical_or(series <= dw , series >= uw)\n",
    "    \n",
    "    if conf_interval == True:\n",
    "        rolling_mean = series.rolling(lag).mean()\n",
    "        mae = mean_absolute_error(series[lag:], rolling_mean[lag:])\n",
    "        deviation = np.std(series[lag:] - rolling_mean[lag:])\n",
    "        lower_bond = rolling_mean - (mae + scale * deviation)\n",
    "        upper_bond = rolling_mean + (mae + scale * deviation)\n",
    "        anomalies = np.logical_or(series > upper_bond , series < lower_bond)\n",
    "        \n",
    "    if boxplots and conf_interval:\n",
    "        return [anomalies, outliers]\n",
    "    elif boxplots ^ conf_interval:\n",
    "        if boxplots: return outliers\n",
    "        else: return anomalies\n",
    "    else:\n",
    "        return []"
   ]
  },
  {
   "cell_type": "code",
   "execution_count": 30,
   "metadata": {},
   "outputs": [],
   "source": [
    "columns = list(df.columns)"
   ]
  },
  {
   "cell_type": "code",
   "execution_count": 31,
   "metadata": {},
   "outputs": [
    {
     "data": {
      "text/plain": [
       "['date_time',\n",
       " 'deg_C',\n",
       " 'relative_humidity',\n",
       " 'absolute_humidity',\n",
       " 'sensor_1',\n",
       " 'sensor_2',\n",
       " 'sensor_3',\n",
       " 'sensor_4',\n",
       " 'sensor_5',\n",
       " 'target_carbon_monoxide',\n",
       " 'target_benzene',\n",
       " 'target_nitrogen_oxides',\n",
       " 'day',\n",
       " 'hour',\n",
       " 'season',\n",
       " 'month']"
      ]
     },
     "execution_count": 31,
     "metadata": {},
     "output_type": "execute_result"
    }
   ],
   "source": [
    "columns"
   ]
  },
  {
   "cell_type": "code",
   "execution_count": 32,
   "metadata": {},
   "outputs": [
    {
     "name": "stdout",
     "output_type": "stream",
     "text": [
      "<class 'pandas.core.frame.DataFrame'>\n",
      "RangeIndex: 7111 entries, 0 to 7110\n",
      "Data columns (total 16 columns):\n",
      " #   Column                  Non-Null Count  Dtype         \n",
      "---  ------                  --------------  -----         \n",
      " 0   date_time               7111 non-null   datetime64[ns]\n",
      " 1   deg_C                   7111 non-null   float64       \n",
      " 2   relative_humidity       7111 non-null   float64       \n",
      " 3   absolute_humidity       7111 non-null   float64       \n",
      " 4   sensor_1                7111 non-null   float64       \n",
      " 5   sensor_2                7111 non-null   float64       \n",
      " 6   sensor_3                7111 non-null   float64       \n",
      " 7   sensor_4                7111 non-null   float64       \n",
      " 8   sensor_5                7111 non-null   float64       \n",
      " 9   target_carbon_monoxide  7111 non-null   float64       \n",
      " 10  target_benzene          7111 non-null   float64       \n",
      " 11  target_nitrogen_oxides  7111 non-null   float64       \n",
      " 12  day                     7111 non-null   int64         \n",
      " 13  hour                    7111 non-null   int64         \n",
      " 14  season                  7111 non-null   int64         \n",
      " 15  month                   7111 non-null   int64         \n",
      "dtypes: datetime64[ns](1), float64(11), int64(4)\n",
      "memory usage: 888.9 KB\n"
     ]
    }
   ],
   "source": [
    "df.info()"
   ]
  },
  {
   "cell_type": "code",
   "execution_count": 33,
   "metadata": {},
   "outputs": [],
   "source": [
    "f_dict = {f_name : [df[f_name]] for f_name in columns[1:]} # features series dict"
   ]
  },
  {
   "cell_type": "code",
   "execution_count": 34,
   "metadata": {},
   "outputs": [],
   "source": [
    "for key in f_dict.keys():\n",
    "    if df[key].dtype != bool and key not in ['day', 'hour', 'season', 'month']:\n",
    "        f_dict[key].append(RWF(df[key] ,lag = 24).max())\n",
    "        f_dict[key].append(RWF(df[key], lag = 24).min())\n",
    "        f_dict[key].append(RWF(df[key], lag = 24).mean())\n",
    "    \n",
    "        f_dict[key].append(EWF(df[key], lag = 24).max())\n",
    "        f_dict[key].append(EWF(df[key], lag = 24).min())\n",
    "        f_dict[key].append(EWF(df[key], lag = 24).mean())\n",
    "    \n",
    "        f_dict[key].extend(get_STL(df[key], period = 24))\n",
    "        \n",
    "        outliers, anomalies = outliers_frame(df[key])\n",
    "        \n",
    "        f_dict[key].append(RWF(outliers, lag = 24).sum())\n",
    "        f_dict[key].append(RWF(anomalies, lag = 24).sum())\n",
    "        "
   ]
  }
 ],
 "metadata": {
  "kernelspec": {
   "display_name": "Python 3",
   "language": "python",
   "name": "python3"
  },
  "language_info": {
   "codemirror_mode": {
    "name": "ipython",
    "version": 3
   },
   "file_extension": ".py",
   "mimetype": "text/x-python",
   "name": "python",
   "nbconvert_exporter": "python",
   "pygments_lexer": "ipython3",
   "version": "3.8.5"
  }
 },
 "nbformat": 4,
 "nbformat_minor": 4
}
