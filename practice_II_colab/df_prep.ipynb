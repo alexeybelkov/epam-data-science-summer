{
  "nbformat": 4,
  "nbformat_minor": 0,
  "metadata": {
    "colab": {
      "name": "df_prep.ipynb",
      "provenance": [],
      "collapsed_sections": []
    },
    "kernelspec": {
      "name": "python3",
      "display_name": "Python 3"
    },
    "language_info": {
      "name": "python"
    }
  },
  "cells": [
    {
      "cell_type": "code",
      "execution_count": null,
      "metadata": {
        "id": "EsBW1in5p92_"
      },
      "outputs": [],
      "source": [
        "import sys\n",
        "sys.path.append('/content/drive/MyDrive/EPAM/datasets/predict_future_sales')\n",
        "GDRIVE_PATH = '/content/drive/MyDrive/EPAM/datasets/predict_future_sales/'"
      ]
    },
    {
      "cell_type": "code",
      "source": [
        "import numpy as np\n",
        "import pandas as pd\n",
        "from matplotlib import pyplot as plt\n",
        "import seaborn as sns\n",
        "from pylab import rcParams\n",
        "import lightgbm\n",
        "import xgboost\n",
        "import torch.nn as nn\n",
        "from importlib import reload\n",
        "from sklearn.model_selection import TimeSeriesSplit\n",
        "from pylab import rcParams\n",
        "from functools import reduce\n",
        "import statistics\n",
        "import main as tsm\n",
        "import cross_valid as tscv"
      ],
      "metadata": {
        "colab": {
          "base_uri": "https://localhost:8080/"
        },
        "id": "op7TwTkVqAY9",
        "outputId": "3fc7f8ae-707c-415a-9fde-79496235983e"
      },
      "execution_count": null,
      "outputs": [
        {
          "output_type": "stream",
          "name": "stderr",
          "text": [
            "/usr/local/lib/python3.7/dist-packages/statsmodels/tools/_testing.py:19: FutureWarning: pandas.util.testing is deprecated. Use the functions in the public API at pandas.testing instead.\n",
            "  import pandas.util.testing as tm\n"
          ]
        }
      ]
    },
    {
      "cell_type": "code",
      "source": [
        "data = pd.read_csv('/content/drive/MyDrive/EPAM/datasets/predict_future_sales/monthly_sales_train.csv', index_col=None)\n",
        "items = pd.read_csv('/content/drive/MyDrive/EPAM/datasets/predict_future_sales/items.csv', index_col='item_id')\n",
        "items_cat = pd.read_csv('/content/drive/MyDrive/EPAM/datasets/predict_future_sales/item_categories.csv', index_col='item_category_id')\n",
        "city = pd.read_csv('/content/drive/MyDrive/EPAM/datasets/predict_future_sales/city_copy.csv', index_col=None)\n",
        "shops = pd.read_csv('/content/drive/MyDrive/EPAM/datasets/predict_future_sales/shops_copy.csv', index_col='shop_id')"
      ],
      "metadata": {
        "id": "2vjnOwkmqBzh"
      },
      "execution_count": null,
      "outputs": []
    },
    {
      "cell_type": "code",
      "source": [
        "data.head(3)"
      ],
      "metadata": {
        "colab": {
          "base_uri": "https://localhost:8080/",
          "height": 142
        },
        "id": "0IehwpKzvCZk",
        "outputId": "de868ca5-7a62-40f7-fa03-6d0f6082aef7"
      },
      "execution_count": null,
      "outputs": [
        {
          "output_type": "execute_result",
          "data": {
            "text/html": [
              "\n",
              "  <div id=\"df-5c24e6ed-2fef-427a-b762-d5a766360787\">\n",
              "    <div class=\"colab-df-container\">\n",
              "      <div>\n",
              "<style scoped>\n",
              "    .dataframe tbody tr th:only-of-type {\n",
              "        vertical-align: middle;\n",
              "    }\n",
              "\n",
              "    .dataframe tbody tr th {\n",
              "        vertical-align: top;\n",
              "    }\n",
              "\n",
              "    .dataframe thead th {\n",
              "        text-align: right;\n",
              "    }\n",
              "</style>\n",
              "<table border=\"1\" class=\"dataframe\">\n",
              "  <thead>\n",
              "    <tr style=\"text-align: right;\">\n",
              "      <th></th>\n",
              "      <th>shop_id</th>\n",
              "      <th>item_id</th>\n",
              "      <th>date_block_num</th>\n",
              "      <th>item_price</th>\n",
              "      <th>item_cat</th>\n",
              "      <th>city_id</th>\n",
              "      <th>year</th>\n",
              "      <th>month</th>\n",
              "      <th>item_cnt_month</th>\n",
              "      <th>population</th>\n",
              "      <th>mean_shop_price</th>\n",
              "      <th>median_shop_price</th>\n",
              "      <th>mean_item_cnt_month_shop</th>\n",
              "      <th>median_item_cnt_month_shop</th>\n",
              "    </tr>\n",
              "  </thead>\n",
              "  <tbody>\n",
              "    <tr>\n",
              "      <th>0</th>\n",
              "      <td>0</td>\n",
              "      <td>30</td>\n",
              "      <td>0</td>\n",
              "      <td>265.0</td>\n",
              "      <td>40</td>\n",
              "      <td>4</td>\n",
              "      <td>2013</td>\n",
              "      <td>1</td>\n",
              "      <td>0.0</td>\n",
              "      <td>286</td>\n",
              "      <td>436.85233</td>\n",
              "      <td>192.5</td>\n",
              "      <td>1.549444</td>\n",
              "      <td>1.0</td>\n",
              "    </tr>\n",
              "    <tr>\n",
              "      <th>1</th>\n",
              "      <td>0</td>\n",
              "      <td>30</td>\n",
              "      <td>1</td>\n",
              "      <td>265.0</td>\n",
              "      <td>40</td>\n",
              "      <td>4</td>\n",
              "      <td>2013</td>\n",
              "      <td>2</td>\n",
              "      <td>31.0</td>\n",
              "      <td>286</td>\n",
              "      <td>433.73575</td>\n",
              "      <td>190.0</td>\n",
              "      <td>1.701944</td>\n",
              "      <td>1.0</td>\n",
              "    </tr>\n",
              "    <tr>\n",
              "      <th>2</th>\n",
              "      <td>0</td>\n",
              "      <td>30</td>\n",
              "      <td>2</td>\n",
              "      <td>265.0</td>\n",
              "      <td>40</td>\n",
              "      <td>4</td>\n",
              "      <td>2013</td>\n",
              "      <td>3</td>\n",
              "      <td>0.0</td>\n",
              "      <td>286</td>\n",
              "      <td>433.73575</td>\n",
              "      <td>190.0</td>\n",
              "      <td>0.000000</td>\n",
              "      <td>0.0</td>\n",
              "    </tr>\n",
              "  </tbody>\n",
              "</table>\n",
              "</div>\n",
              "      <button class=\"colab-df-convert\" onclick=\"convertToInteractive('df-5c24e6ed-2fef-427a-b762-d5a766360787')\"\n",
              "              title=\"Convert this dataframe to an interactive table.\"\n",
              "              style=\"display:none;\">\n",
              "        \n",
              "  <svg xmlns=\"http://www.w3.org/2000/svg\" height=\"24px\"viewBox=\"0 0 24 24\"\n",
              "       width=\"24px\">\n",
              "    <path d=\"M0 0h24v24H0V0z\" fill=\"none\"/>\n",
              "    <path d=\"M18.56 5.44l.94 2.06.94-2.06 2.06-.94-2.06-.94-.94-2.06-.94 2.06-2.06.94zm-11 1L8.5 8.5l.94-2.06 2.06-.94-2.06-.94L8.5 2.5l-.94 2.06-2.06.94zm10 10l.94 2.06.94-2.06 2.06-.94-2.06-.94-.94-2.06-.94 2.06-2.06.94z\"/><path d=\"M17.41 7.96l-1.37-1.37c-.4-.4-.92-.59-1.43-.59-.52 0-1.04.2-1.43.59L10.3 9.45l-7.72 7.72c-.78.78-.78 2.05 0 2.83L4 21.41c.39.39.9.59 1.41.59.51 0 1.02-.2 1.41-.59l7.78-7.78 2.81-2.81c.8-.78.8-2.07 0-2.86zM5.41 20L4 18.59l7.72-7.72 1.47 1.35L5.41 20z\"/>\n",
              "  </svg>\n",
              "      </button>\n",
              "      \n",
              "  <style>\n",
              "    .colab-df-container {\n",
              "      display:flex;\n",
              "      flex-wrap:wrap;\n",
              "      gap: 12px;\n",
              "    }\n",
              "\n",
              "    .colab-df-convert {\n",
              "      background-color: #E8F0FE;\n",
              "      border: none;\n",
              "      border-radius: 50%;\n",
              "      cursor: pointer;\n",
              "      display: none;\n",
              "      fill: #1967D2;\n",
              "      height: 32px;\n",
              "      padding: 0 0 0 0;\n",
              "      width: 32px;\n",
              "    }\n",
              "\n",
              "    .colab-df-convert:hover {\n",
              "      background-color: #E2EBFA;\n",
              "      box-shadow: 0px 1px 2px rgba(60, 64, 67, 0.3), 0px 1px 3px 1px rgba(60, 64, 67, 0.15);\n",
              "      fill: #174EA6;\n",
              "    }\n",
              "\n",
              "    [theme=dark] .colab-df-convert {\n",
              "      background-color: #3B4455;\n",
              "      fill: #D2E3FC;\n",
              "    }\n",
              "\n",
              "    [theme=dark] .colab-df-convert:hover {\n",
              "      background-color: #434B5C;\n",
              "      box-shadow: 0px 1px 3px 1px rgba(0, 0, 0, 0.15);\n",
              "      filter: drop-shadow(0px 1px 2px rgba(0, 0, 0, 0.3));\n",
              "      fill: #FFFFFF;\n",
              "    }\n",
              "  </style>\n",
              "\n",
              "      <script>\n",
              "        const buttonEl =\n",
              "          document.querySelector('#df-5c24e6ed-2fef-427a-b762-d5a766360787 button.colab-df-convert');\n",
              "        buttonEl.style.display =\n",
              "          google.colab.kernel.accessAllowed ? 'block' : 'none';\n",
              "\n",
              "        async function convertToInteractive(key) {\n",
              "          const element = document.querySelector('#df-5c24e6ed-2fef-427a-b762-d5a766360787');\n",
              "          const dataTable =\n",
              "            await google.colab.kernel.invokeFunction('convertToInteractive',\n",
              "                                                     [key], {});\n",
              "          if (!dataTable) return;\n",
              "\n",
              "          const docLinkHtml = 'Like what you see? Visit the ' +\n",
              "            '<a target=\"_blank\" href=https://colab.research.google.com/notebooks/data_table.ipynb>data table notebook</a>'\n",
              "            + ' to learn more about interactive tables.';\n",
              "          element.innerHTML = '';\n",
              "          dataTable['output_type'] = 'display_data';\n",
              "          await google.colab.output.renderOutput(dataTable, element);\n",
              "          const docLink = document.createElement('div');\n",
              "          docLink.innerHTML = docLinkHtml;\n",
              "          element.appendChild(docLink);\n",
              "        }\n",
              "      </script>\n",
              "    </div>\n",
              "  </div>\n",
              "  "
            ],
            "text/plain": [
              "   shop_id  item_id  ...  mean_item_cnt_month_shop  median_item_cnt_month_shop\n",
              "0        0       30  ...                  1.549444                         1.0\n",
              "1        0       30  ...                  1.701944                         1.0\n",
              "2        0       30  ...                  0.000000                         0.0\n",
              "\n",
              "[3 rows x 14 columns]"
            ]
          },
          "metadata": {},
          "execution_count": 4
        }
      ]
    },
    {
      "cell_type": "code",
      "source": [
        "np.any(data.isna())"
      ],
      "metadata": {
        "colab": {
          "base_uri": "https://localhost:8080/"
        },
        "id": "KpxgrI5iCb6-",
        "outputId": "66e6ee7b-bd10-4c1b-afbe-d4ec49a0d1bf"
      },
      "execution_count": null,
      "outputs": [
        {
          "output_type": "execute_result",
          "data": {
            "text/plain": [
              "False"
            ]
          },
          "metadata": {},
          "execution_count": 5
        }
      ]
    },
    {
      "cell_type": "code",
      "source": [
        "data.info()"
      ],
      "metadata": {
        "colab": {
          "base_uri": "https://localhost:8080/"
        },
        "id": "agLPX4zB2P0G",
        "outputId": "9c5e8964-d1df-4bb2-b295-1d0c48db45af"
      },
      "execution_count": null,
      "outputs": [
        {
          "output_type": "stream",
          "name": "stdout",
          "text": [
            "<class 'pandas.core.frame.DataFrame'>\n",
            "RangeIndex: 14420216 entries, 0 to 14420215\n",
            "Data columns (total 14 columns):\n",
            " #   Column                      Dtype  \n",
            "---  ------                      -----  \n",
            " 0   shop_id                     int64  \n",
            " 1   item_id                     int64  \n",
            " 2   date_block_num              int64  \n",
            " 3   item_price                  float64\n",
            " 4   item_cat                    int64  \n",
            " 5   city_id                     int64  \n",
            " 6   year                        int64  \n",
            " 7   month                       int64  \n",
            " 8   item_cnt_month              float64\n",
            " 9   population                  int64  \n",
            " 10  mean_shop_price             float64\n",
            " 11  median_shop_price           float64\n",
            " 12  mean_item_cnt_month_shop    float64\n",
            " 13  median_item_cnt_month_shop  float64\n",
            "dtypes: float64(6), int64(8)\n",
            "memory usage: 1.5 GB\n"
          ]
        }
      ]
    },
    {
      "cell_type": "code",
      "source": [
        "columns = ['shop_id','item_id','date_block_num']"
      ],
      "metadata": {
        "id": "qg9Ktab6yETR"
      },
      "execution_count": null,
      "outputs": []
    },
    {
      "cell_type": "code",
      "source": [
        "#data.drop(columns=['Unnamed: 0'],inplace=True)"
      ],
      "metadata": {
        "id": "6sg_BcSPA4vY"
      },
      "execution_count": null,
      "outputs": []
    },
    {
      "cell_type": "code",
      "source": [
        "data.sort_values(columns, inplace=True)"
      ],
      "metadata": {
        "id": "SVoyy40h11AC"
      },
      "execution_count": null,
      "outputs": []
    },
    {
      "cell_type": "code",
      "source": [
        "data.columns"
      ],
      "metadata": {
        "colab": {
          "base_uri": "https://localhost:8080/"
        },
        "id": "WtbYIXI32n1v",
        "outputId": "b0862374-0e1a-4faa-dee4-0aaf4a12709b"
      },
      "execution_count": null,
      "outputs": [
        {
          "output_type": "execute_result",
          "data": {
            "text/plain": [
              "Index(['shop_id', 'item_id', 'date_block_num', 'item_price', 'item_cat',\n",
              "       'city_id', 'year', 'month', 'item_cnt_month', 'population',\n",
              "       'mean_shop_price', 'median_shop_price', 'mean_item_cnt_month_shop',\n",
              "       'median_item_cnt_month_shop'],\n",
              "      dtype='object')"
            ]
          },
          "metadata": {},
          "execution_count": 10
        }
      ]
    },
    {
      "cell_type": "code",
      "source": [
        "data[['shop_id','date_block_num','city_id','month','item_cat']] = data[['shop_id','date_block_num','city_id','month','item_cat']].astype(np.uint8)"
      ],
      "metadata": {
        "id": "h-OO764gkrrC"
      },
      "execution_count": null,
      "outputs": []
    },
    {
      "cell_type": "code",
      "source": [
        "data[['item_id','year']] = data[['item_id','year']].astype(np.uint16)"
      ],
      "metadata": {
        "id": "YCw_QAP9lJz1"
      },
      "execution_count": null,
      "outputs": []
    },
    {
      "cell_type": "code",
      "source": [
        "np.iinfo(np.uint16)"
      ],
      "metadata": {
        "colab": {
          "base_uri": "https://localhost:8080/"
        },
        "id": "03vdg0b525aO",
        "outputId": "cac462a1-6607-4ded-c08b-90c5c4511b8c"
      },
      "execution_count": null,
      "outputs": [
        {
          "output_type": "execute_result",
          "data": {
            "text/plain": [
              "iinfo(min=0, max=65535, dtype=uint16)"
            ]
          },
          "metadata": {},
          "execution_count": 13
        }
      ]
    },
    {
      "cell_type": "code",
      "source": [
        "max(data['population'])"
      ],
      "metadata": {
        "colab": {
          "base_uri": "https://localhost:8080/"
        },
        "id": "fXivvEffDi5U",
        "outputId": "9ce6df06-4506-4364-cac4-bb60b57f31fb"
      },
      "execution_count": null,
      "outputs": [
        {
          "output_type": "execute_result",
          "data": {
            "text/plain": [
              "12108"
            ]
          },
          "metadata": {},
          "execution_count": 14
        }
      ]
    },
    {
      "cell_type": "code",
      "source": [
        "data['population'] = data['population'].astype(np.uint16)"
      ],
      "metadata": {
        "id": "RXhow-mKlvp2"
      },
      "execution_count": null,
      "outputs": []
    },
    {
      "cell_type": "code",
      "source": [
        "data[['item_cnt_month','item_price']] = data[['item_cnt_month','item_price']].astype(np.float32)"
      ],
      "metadata": {
        "id": "gBI81hVvmLKG"
      },
      "execution_count": null,
      "outputs": []
    },
    {
      "cell_type": "code",
      "source": [
        "data.info()"
      ],
      "metadata": {
        "colab": {
          "base_uri": "https://localhost:8080/"
        },
        "id": "axXGuVAymhjs",
        "outputId": "84c3dce1-a4c6-48d5-8947-04c101df274b"
      },
      "execution_count": null,
      "outputs": [
        {
          "output_type": "stream",
          "name": "stdout",
          "text": [
            "<class 'pandas.core.frame.DataFrame'>\n",
            "Int64Index: 14420216 entries, 0 to 14420215\n",
            "Data columns (total 14 columns):\n",
            " #   Column                      Dtype  \n",
            "---  ------                      -----  \n",
            " 0   shop_id                     uint8  \n",
            " 1   item_id                     uint16 \n",
            " 2   date_block_num              uint8  \n",
            " 3   item_price                  float32\n",
            " 4   item_cat                    uint8  \n",
            " 5   city_id                     uint8  \n",
            " 6   year                        uint16 \n",
            " 7   month                       uint8  \n",
            " 8   item_cnt_month              float32\n",
            " 9   population                  uint16 \n",
            " 10  mean_shop_price             float64\n",
            " 11  median_shop_price           float64\n",
            " 12  mean_item_cnt_month_shop    float64\n",
            " 13  median_item_cnt_month_shop  float64\n",
            "dtypes: float32(2), float64(4), uint16(3), uint8(5)\n",
            "memory usage: 811.4 MB\n"
          ]
        }
      ]
    },
    {
      "cell_type": "code",
      "source": [
        "data['mean_shop_price'] = pd.Series(None)"
      ],
      "metadata": {
        "colab": {
          "base_uri": "https://localhost:8080/"
        },
        "id": "zaAr96qFupEY",
        "outputId": "189f4d7a-6a75-4050-d173-7212c77019a8"
      },
      "execution_count": null,
      "outputs": [
        {
          "output_type": "stream",
          "name": "stderr",
          "text": [
            "/usr/local/lib/python3.7/dist-packages/ipykernel_launcher.py:1: DeprecationWarning: The default dtype for empty Series will be 'object' instead of 'float64' in a future version. Specify a dtype explicitly to silence this warning.\n",
            "  \"\"\"Entry point for launching an IPython kernel.\n"
          ]
        }
      ]
    },
    {
      "cell_type": "code",
      "source": [
        "mean_shop_price = data.groupby(['shop_id','date_block_num'])['item_price'].mean()\n",
        "median_shop_price = data.groupby(['shop_id','date_block_num'])['item_price'].median()\n",
        "mean_item_cnt_month_shop = data.groupby(['shop_id','date_block_num'])['item_cnt_month'].mean()\n",
        "median_item_cnt_month_shop = data.groupby(['shop_id','date_block_num'])['item_cnt_month'].median()\n",
        "\n",
        "#mean_item_cat_price = data.groupby(['item_cat','date_block_num'])['item_price'].mean()\n",
        "#median_item_cat_price = data.groupby(['item_cat','date_block_num'])['item_price'].median()\n"
      ],
      "metadata": {
        "id": "0ZGFSdXFwYvh"
      },
      "execution_count": null,
      "outputs": []
    },
    {
      "cell_type": "code",
      "source": [
        "for sid, date in mean_shop_price.index:\n",
        "    data.loc[(data['shop_id']==sid)&(data['date_block_num']==date),'mean_shop_price'] = mean_shop_price.loc[(sid,date)]"
      ],
      "metadata": {
        "id": "7aMksJlK4GF2"
      },
      "execution_count": null,
      "outputs": []
    },
    {
      "cell_type": "code",
      "source": [
        "data['median_shop_price'] = pd.Series(None)"
      ],
      "metadata": {
        "colab": {
          "base_uri": "https://localhost:8080/"
        },
        "id": "alNo3B-85D_H",
        "outputId": "80098d1b-153a-4065-a2a4-ee1b0b3c38e6"
      },
      "execution_count": null,
      "outputs": [
        {
          "output_type": "stream",
          "name": "stderr",
          "text": [
            "/usr/local/lib/python3.7/dist-packages/ipykernel_launcher.py:1: DeprecationWarning: The default dtype for empty Series will be 'object' instead of 'float64' in a future version. Specify a dtype explicitly to silence this warning.\n",
            "  \"\"\"Entry point for launching an IPython kernel.\n"
          ]
        }
      ]
    },
    {
      "cell_type": "code",
      "source": [
        "for sid, date in median_shop_price.index:\n",
        "    data.loc[(data['shop_id']==sid)&(data['date_block_num']==date),'median_shop_price'] = median_shop_price.loc[(sid,date)]"
      ],
      "metadata": {
        "id": "Y957YInw5dWw"
      },
      "execution_count": null,
      "outputs": []
    },
    {
      "cell_type": "code",
      "source": [
        "data['mean_item_cnt_month_shop'] = pd.Series(None)"
      ],
      "metadata": {
        "colab": {
          "base_uri": "https://localhost:8080/"
        },
        "id": "o6ODco-o5idf",
        "outputId": "11e290bd-7a37-4330-cccd-893b054d5fdf"
      },
      "execution_count": null,
      "outputs": [
        {
          "output_type": "stream",
          "name": "stderr",
          "text": [
            "/usr/local/lib/python3.7/dist-packages/ipykernel_launcher.py:1: DeprecationWarning: The default dtype for empty Series will be 'object' instead of 'float64' in a future version. Specify a dtype explicitly to silence this warning.\n",
            "  \"\"\"Entry point for launching an IPython kernel.\n"
          ]
        }
      ]
    },
    {
      "cell_type": "code",
      "source": [
        "for sid, date in mean_item_cnt_month_shop.index:\n",
        "    data.loc[(data['shop_id']==sid)&(data['date_block_num']==date),'mean_item_cnt_month_shop'] = mean_item_cnt_month_shop.loc[(sid,date)]"
      ],
      "metadata": {
        "id": "iqdkEkgM7yGr"
      },
      "execution_count": null,
      "outputs": []
    },
    {
      "cell_type": "code",
      "source": [
        "data['median_item_cnt_month_shop'] = pd.Series(None)"
      ],
      "metadata": {
        "id": "1NrdoPo18TfW",
        "colab": {
          "base_uri": "https://localhost:8080/"
        },
        "outputId": "de47af34-b148-41cf-c066-5bcb7dc94dcd"
      },
      "execution_count": null,
      "outputs": [
        {
          "output_type": "stream",
          "name": "stderr",
          "text": [
            "/usr/local/lib/python3.7/dist-packages/ipykernel_launcher.py:1: DeprecationWarning: The default dtype for empty Series will be 'object' instead of 'float64' in a future version. Specify a dtype explicitly to silence this warning.\n",
            "  \"\"\"Entry point for launching an IPython kernel.\n"
          ]
        }
      ]
    },
    {
      "cell_type": "code",
      "source": [
        "for sid, date in median_item_cnt_month_shop.index:\n",
        "    data.loc[(data['shop_id']==sid)&(data['date_block_num']==date),'median_item_cnt_month_shop'] = median_item_cnt_month_shop.loc[(sid,date)]"
      ],
      "metadata": {
        "id": "wAIiZPpO83ag"
      },
      "execution_count": null,
      "outputs": []
    },
    {
      "cell_type": "code",
      "source": [
        "data[['mean_shop_price','median_shop_price','mean_item_cnt_month_shop','median_item_cnt_month_shop']] = data[['mean_shop_price','median_shop_price','mean_item_cnt_month_shop','median_item_cnt_month_shop']].astype(np.float32)"
      ],
      "metadata": {
        "id": "CfIzWZ1g9ToB"
      },
      "execution_count": null,
      "outputs": []
    },
    {
      "cell_type": "code",
      "source": [
        ""
      ],
      "metadata": {
        "id": "6vFbF4NGkjU5"
      },
      "execution_count": null,
      "outputs": []
    },
    {
      "cell_type": "code",
      "source": [
        ""
      ],
      "metadata": {
        "id": "LPOKsSXekjQg"
      },
      "execution_count": null,
      "outputs": []
    },
    {
      "cell_type": "code",
      "source": [
        ""
      ],
      "metadata": {
        "id": "yP-gVJPUkjJO"
      },
      "execution_count": null,
      "outputs": []
    },
    {
      "cell_type": "code",
      "source": [
        ""
      ],
      "metadata": {
        "id": "9SAiHikqkjGA"
      },
      "execution_count": null,
      "outputs": []
    },
    {
      "cell_type": "code",
      "source": [
        ""
      ],
      "metadata": {
        "id": "x60hzkWekjCJ"
      },
      "execution_count": null,
      "outputs": []
    },
    {
      "cell_type": "code",
      "source": [
        "data.info()"
      ],
      "metadata": {
        "colab": {
          "base_uri": "https://localhost:8080/"
        },
        "id": "-2TUK-EF9zKS",
        "outputId": "c1e0b770-9447-4ec8-d6f2-dcc0edf72e8e"
      },
      "execution_count": null,
      "outputs": [
        {
          "output_type": "stream",
          "name": "stdout",
          "text": [
            "<class 'pandas.core.frame.DataFrame'>\n",
            "Int64Index: 14420216 entries, 0 to 14420215\n",
            "Data columns (total 14 columns):\n",
            " #   Column                      Dtype  \n",
            "---  ------                      -----  \n",
            " 0   shop_id                     uint8  \n",
            " 1   item_id                     uint16 \n",
            " 2   date_block_num              uint8  \n",
            " 3   item_price                  float32\n",
            " 4   item_cat                    uint8  \n",
            " 5   city_id                     uint8  \n",
            " 6   year                        uint16 \n",
            " 7   month                       uint8  \n",
            " 8   item_cnt_month              float32\n",
            " 9   population                  uint16 \n",
            " 10  mean_shop_price             float32\n",
            " 11  median_shop_price           float32\n",
            " 12  mean_item_cnt_month_shop    float32\n",
            " 13  median_item_cnt_month_shop  float32\n",
            "dtypes: float32(6), uint16(3), uint8(5)\n",
            "memory usage: 591.3 MB\n"
          ]
        }
      ]
    },
    {
      "cell_type": "code",
      "source": [
        ""
      ],
      "metadata": {
        "id": "yKR_5ZNLa-G5"
      },
      "execution_count": null,
      "outputs": []
    },
    {
      "cell_type": "code",
      "source": [
        ""
      ],
      "metadata": {
        "id": "WdRcuXAoa-ER"
      },
      "execution_count": null,
      "outputs": []
    },
    {
      "cell_type": "code",
      "source": [
        ""
      ],
      "metadata": {
        "id": "8cie0yZPa-BK"
      },
      "execution_count": null,
      "outputs": []
    },
    {
      "cell_type": "code",
      "source": [
        ""
      ],
      "metadata": {
        "id": "Epa6mDjea99x"
      },
      "execution_count": null,
      "outputs": []
    },
    {
      "cell_type": "code",
      "source": [
        "data"
      ],
      "metadata": {
        "id": "yYnLmdiLa966"
      },
      "execution_count": null,
      "outputs": []
    },
    {
      "cell_type": "code",
      "source": [
        ""
      ],
      "metadata": {
        "id": "9hyhBZyPa94I"
      },
      "execution_count": null,
      "outputs": []
    },
    {
      "cell_type": "code",
      "source": [
        ""
      ],
      "metadata": {
        "id": "oQ3nSdDia91U"
      },
      "execution_count": null,
      "outputs": []
    },
    {
      "cell_type": "code",
      "source": [
        ""
      ],
      "metadata": {
        "id": "gktQq1fqa9yx"
      },
      "execution_count": null,
      "outputs": []
    },
    {
      "cell_type": "code",
      "source": [
        ""
      ],
      "metadata": {
        "id": "ObHkcHVsa9vk"
      },
      "execution_count": null,
      "outputs": []
    },
    {
      "cell_type": "code",
      "source": [
        ""
      ],
      "metadata": {
        "id": "hMDu0B5fa9sq"
      },
      "execution_count": null,
      "outputs": []
    },
    {
      "cell_type": "code",
      "source": [
        ""
      ],
      "metadata": {
        "id": "ped42S3ta9p7"
      },
      "execution_count": null,
      "outputs": []
    },
    {
      "cell_type": "code",
      "source": [
        ""
      ],
      "metadata": {
        "id": "RQcCc5kEa9QX"
      },
      "execution_count": null,
      "outputs": []
    },
    {
      "cell_type": "code",
      "source": [
        "data.to_csv('/content/drive/MyDrive/EPAM/datasets/predict_future_sales/monthly_sales_train.csv',index_label=None, index=None)"
      ],
      "metadata": {
        "id": "CJbEELhzm7Dw"
      },
      "execution_count": null,
      "outputs": []
    },
    {
      "cell_type": "code",
      "source": [
        "np.finfo(np.float16)"
      ],
      "metadata": {
        "colab": {
          "base_uri": "https://localhost:8080/"
        },
        "id": "ML543yAIHfs5",
        "outputId": "862c18ef-f180-4f28-fbf0-70e8cea32e26"
      },
      "execution_count": null,
      "outputs": [
        {
          "output_type": "execute_result",
          "data": {
            "text/plain": [
              "finfo(resolution=0.001, min=-6.55040e+04, max=6.55040e+04, dtype=float16)"
            ]
          },
          "metadata": {},
          "execution_count": 28
        }
      ]
    },
    {
      "cell_type": "code",
      "source": [
        ""
      ],
      "metadata": {
        "id": "rY_deckJ2aQ0"
      },
      "execution_count": null,
      "outputs": []
    },
    {
      "cell_type": "code",
      "source": [
        ""
      ],
      "metadata": {
        "id": "j7NxkcTG2aTN"
      },
      "execution_count": null,
      "outputs": []
    },
    {
      "cell_type": "code",
      "source": [
        "rcParams['figure.figsize'] = 50,20\n",
        "sns.barplot(data['item_cnt_month'].value_counts().index, data['item_cnt_month'].value_counts())"
      ],
      "metadata": {
        "colab": {
          "base_uri": "https://localhost:8080/",
          "height": 799
        },
        "id": "VuXzM2a32aVi",
        "outputId": "3736986c-d03c-41b9-cde3-8b1988648d8d"
      },
      "execution_count": null,
      "outputs": [
        {
          "output_type": "stream",
          "name": "stderr",
          "text": [
            "/usr/local/lib/python3.7/dist-packages/seaborn/_decorators.py:43: FutureWarning: Pass the following variables as keyword args: x, y. From version 0.12, the only valid positional argument will be `data`, and passing other arguments without an explicit keyword will result in an error or misinterpretation.\n",
            "  FutureWarning\n"
          ]
        },
        {
          "output_type": "execute_result",
          "data": {
            "text/plain": [
              "<matplotlib.axes._subplots.AxesSubplot at 0x7f4ad565a690>"
            ]
          },
          "metadata": {},
          "execution_count": 35
        },
        {
          "output_type": "display_data",
          "data": {
            "image/png": "[encoded data removed]",
            "text/plain": [
              "<Figure size 3600x1440 with 1 Axes>"
            ]
          },
          "metadata": {
            "needs_background": "light"
          }
        }
      ]
    },
    {
      "cell_type": "code",
      "source": [
        "from scipy.stats import kstest\n",
        "from scipy.stats import laplace"
      ],
      "metadata": {
        "id": "DStqMaUa3Erz"
      },
      "execution_count": null,
      "outputs": []
    },
    {
      "cell_type": "code",
      "source": [
        "def mean_median_deviation(x):\n",
        "    return np.mean(np.abs(x-np.median(x)))"
      ],
      "metadata": {
        "id": "tGCRMaf4OJzM"
      },
      "execution_count": null,
      "outputs": []
    },
    {
      "cell_type": "code",
      "source": [
        "mean_median_deviation(data['item_cnt_month'])"
      ],
      "metadata": {
        "colab": {
          "base_uri": "https://localhost:8080/"
        },
        "id": "BmIoZKLOPYiy",
        "outputId": "6b65aa8a-83c6-44bf-e570-434468998127"
      },
      "execution_count": null,
      "outputs": [
        {
          "output_type": "execute_result",
          "data": {
            "text/plain": [
              "0.25312963128089905"
            ]
          },
          "metadata": {},
          "execution_count": 65
        }
      ]
    },
    {
      "cell_type": "markdown",
      "source": [
        ""
      ],
      "metadata": {
        "id": "8WuM_clz3xZd"
      }
    },
    {
      "cell_type": "code",
      "source": [
        "rcParams['figure.figsize'] = 20, 10\n",
        "plt.hist(data['item_cnt_month'], bins = 100)"
      ],
      "metadata": {
        "colab": {
          "base_uri": "https://localhost:8080/",
          "height": 1000
        },
        "id": "Dd6fID7g3xcg",
        "outputId": "22a315f7-1a9f-4ed5-d97b-37e25ccc0287"
      },
      "execution_count": null,
      "outputs": [
        {
          "output_type": "execute_result",
          "data": {
            "text/plain": [
              "(array([8.329795e+06, 1.596382e+06, 5.989000e+03, 1.421000e+03,\n",
              "        6.590000e+02, 3.390000e+02, 2.220000e+02, 1.260000e+02,\n",
              "        8.700000e+01, 6.600000e+01, 4.900000e+01, 3.200000e+01,\n",
              "        2.800000e+01, 1.800000e+01, 2.500000e+01, 1.200000e+01,\n",
              "        1.200000e+01, 1.600000e+01, 7.000000e+00, 1.000000e+01,\n",
              "        1.100000e+01, 1.000000e+01, 9.000000e+00, 5.000000e+00,\n",
              "        7.000000e+00, 9.000000e+00, 8.000000e+00, 9.000000e+00,\n",
              "        7.000000e+00, 3.000000e+00, 2.000000e+00, 4.000000e+00,\n",
              "        1.000000e+00, 5.000000e+00, 8.000000e+00, 4.000000e+00,\n",
              "        3.000000e+00, 1.000000e+00, 0.000000e+00, 0.000000e+00,\n",
              "        4.000000e+00, 0.000000e+00, 2.000000e+00, 1.000000e+00,\n",
              "        3.000000e+00, 0.000000e+00, 0.000000e+00, 1.000000e+00,\n",
              "        1.000000e+00, 0.000000e+00, 2.000000e+00, 0.000000e+00,\n",
              "        0.000000e+00, 0.000000e+00, 1.000000e+00, 1.000000e+00,\n",
              "        0.000000e+00, 0.000000e+00, 1.000000e+00, 0.000000e+00,\n",
              "        0.000000e+00, 0.000000e+00, 0.000000e+00, 0.000000e+00,\n",
              "        0.000000e+00, 0.000000e+00, 0.000000e+00, 0.000000e+00,\n",
              "        0.000000e+00, 0.000000e+00, 0.000000e+00, 0.000000e+00,\n",
              "        0.000000e+00, 2.000000e+00, 0.000000e+00, 0.000000e+00,\n",
              "        0.000000e+00, 0.000000e+00, 0.000000e+00, 0.000000e+00,\n",
              "        0.000000e+00, 0.000000e+00, 0.000000e+00, 0.000000e+00,\n",
              "        0.000000e+00, 0.000000e+00, 0.000000e+00, 0.000000e+00,\n",
              "        0.000000e+00, 0.000000e+00, 0.000000e+00, 0.000000e+00,\n",
              "        0.000000e+00, 0.000000e+00, 0.000000e+00, 0.000000e+00,\n",
              "        0.000000e+00, 0.000000e+00, 0.000000e+00, 1.000000e+00]),\n",
              " array([-2.20000e+01,  7.50000e-01,  2.35000e+01,  4.62500e+01,\n",
              "         6.90000e+01,  9.17500e+01,  1.14500e+02,  1.37250e+02,\n",
              "         1.60000e+02,  1.82750e+02,  2.05500e+02,  2.28250e+02,\n",
              "         2.51000e+02,  2.73750e+02,  2.96500e+02,  3.19250e+02,\n",
              "         3.42000e+02,  3.64750e+02,  3.87500e+02,  4.10250e+02,\n",
              "         4.33000e+02,  4.55750e+02,  4.78500e+02,  5.01250e+02,\n",
              "         5.24000e+02,  5.46750e+02,  5.69500e+02,  5.92250e+02,\n",
              "         6.15000e+02,  6.37750e+02,  6.60500e+02,  6.83250e+02,\n",
              "         7.06000e+02,  7.28750e+02,  7.51500e+02,  7.74250e+02,\n",
              "         7.97000e+02,  8.19750e+02,  8.42500e+02,  8.65250e+02,\n",
              "         8.88000e+02,  9.10750e+02,  9.33500e+02,  9.56250e+02,\n",
              "         9.79000e+02,  1.00175e+03,  1.02450e+03,  1.04725e+03,\n",
              "         1.07000e+03,  1.09275e+03,  1.11550e+03,  1.13825e+03,\n",
              "         1.16100e+03,  1.18375e+03,  1.20650e+03,  1.22925e+03,\n",
              "         1.25200e+03,  1.27475e+03,  1.29750e+03,  1.32025e+03,\n",
              "         1.34300e+03,  1.36575e+03,  1.38850e+03,  1.41125e+03,\n",
              "         1.43400e+03,  1.45675e+03,  1.47950e+03,  1.50225e+03,\n",
              "         1.52500e+03,  1.54775e+03,  1.57050e+03,  1.59325e+03,\n",
              "         1.61600e+03,  1.63875e+03,  1.66150e+03,  1.68425e+03,\n",
              "         1.70700e+03,  1.72975e+03,  1.75250e+03,  1.77525e+03,\n",
              "         1.79800e+03,  1.82075e+03,  1.84350e+03,  1.86625e+03,\n",
              "         1.88900e+03,  1.91175e+03,  1.93450e+03,  1.95725e+03,\n",
              "         1.98000e+03,  2.00275e+03,  2.02550e+03,  2.04825e+03,\n",
              "         2.07100e+03,  2.09375e+03,  2.11650e+03,  2.13925e+03,\n",
              "         2.16200e+03,  2.18475e+03,  2.20750e+03,  2.23025e+03,\n",
              "         2.25300e+03]),\n",
              " <a list of 100 Patch objects>)"
            ]
          },
          "metadata": {},
          "execution_count": 7
        },
        {
          "output_type": "display_data",
          "data": {
            "image/png": "[encoded data removed]",
            "text/plain": [
              "<Figure size 1440x720 with 1 Axes>"
            ]
          },
          "metadata": {
            "needs_background": "light"
          }
        }
      ]
    },
    {
      "cell_type": "code",
      "source": [
        ""
      ],
      "metadata": {
        "id": "bmbrx46q3xfK"
      },
      "execution_count": null,
      "outputs": []
    },
    {
      "cell_type": "code",
      "source": [
        "data.set_index(columns,inplace=True)"
      ],
      "metadata": {
        "id": "J4SUOeAA3xhV",
        "colab": {
          "base_uri": "https://localhost:8080/",
          "height": 282
        },
        "outputId": "9530754d-bb07-48c6-e049-a25c7abd2143"
      },
      "execution_count": null,
      "outputs": [
        {
          "output_type": "error",
          "ename": "KeyError",
          "evalue": "ignored",
          "traceback": [
            "\u001b[0;31m---------------------------------------------------------------------------\u001b[0m",
            "\u001b[0;31mKeyError\u001b[0m                                  Traceback (most recent call last)",
            "\u001b[0;32m<ipython-input-29-c33241f93478>\u001b[0m in \u001b[0;36m<module>\u001b[0;34m()\u001b[0m\n\u001b[0;32m----> 1\u001b[0;31m \u001b[0mdata\u001b[0m\u001b[0;34m.\u001b[0m\u001b[0mset_index\u001b[0m\u001b[0;34m(\u001b[0m\u001b[0mcolumns\u001b[0m\u001b[0;34m,\u001b[0m\u001b[0minplace\u001b[0m\u001b[0;34m=\u001b[0m\u001b[0;32mTrue\u001b[0m\u001b[0;34m)\u001b[0m\u001b[0;34m\u001b[0m\u001b[0;34m\u001b[0m\u001b[0m\n\u001b[0m",
            "\u001b[0;32m/usr/local/lib/python3.7/dist-packages/pandas/core/frame.py\u001b[0m in \u001b[0;36mset_index\u001b[0;34m(self, keys, drop, append, inplace, verify_integrity)\u001b[0m\n\u001b[1;32m   4553\u001b[0m \u001b[0;34m\u001b[0m\u001b[0m\n\u001b[1;32m   4554\u001b[0m         \u001b[0;32mif\u001b[0m \u001b[0mmissing\u001b[0m\u001b[0;34m:\u001b[0m\u001b[0;34m\u001b[0m\u001b[0;34m\u001b[0m\u001b[0m\n\u001b[0;32m-> 4555\u001b[0;31m             \u001b[0;32mraise\u001b[0m \u001b[0mKeyError\u001b[0m\u001b[0;34m(\u001b[0m\u001b[0;34mf\"None of {missing} are in the columns\"\u001b[0m\u001b[0;34m)\u001b[0m\u001b[0;34m\u001b[0m\u001b[0;34m\u001b[0m\u001b[0m\n\u001b[0m\u001b[1;32m   4556\u001b[0m \u001b[0;34m\u001b[0m\u001b[0m\n\u001b[1;32m   4557\u001b[0m         \u001b[0;32mif\u001b[0m \u001b[0minplace\u001b[0m\u001b[0;34m:\u001b[0m\u001b[0;34m\u001b[0m\u001b[0;34m\u001b[0m\u001b[0m\n",
            "\u001b[0;31mKeyError\u001b[0m: \"None of ['shop_id', 'item_id', 'date_block_num'] are in the columns\""
          ]
        }
      ]
    },
    {
      "cell_type": "code",
      "source": [
        "data.index = data['date_block_num']"
      ],
      "metadata": {
        "colab": {
          "base_uri": "https://localhost:8080/",
          "height": 561
        },
        "id": "YqikT3x1vDJs",
        "outputId": "7dd646cb-0ef8-4690-c486-89d2df22a053"
      },
      "execution_count": null,
      "outputs": [
        {
          "output_type": "error",
          "ename": "KeyError",
          "evalue": "ignored",
          "traceback": [
            "\u001b[0;31m---------------------------------------------------------------------------\u001b[0m",
            "\u001b[0;31mKeyError\u001b[0m                                  Traceback (most recent call last)",
            "\u001b[0;32m/usr/local/lib/python3.7/dist-packages/pandas/core/indexes/base.py\u001b[0m in \u001b[0;36mget_loc\u001b[0;34m(self, key, method, tolerance)\u001b[0m\n\u001b[1;32m   2897\u001b[0m             \u001b[0;32mtry\u001b[0m\u001b[0;34m:\u001b[0m\u001b[0;34m\u001b[0m\u001b[0;34m\u001b[0m\u001b[0m\n\u001b[0;32m-> 2898\u001b[0;31m                 \u001b[0;32mreturn\u001b[0m \u001b[0mself\u001b[0m\u001b[0;34m.\u001b[0m\u001b[0m_engine\u001b[0m\u001b[0;34m.\u001b[0m\u001b[0mget_loc\u001b[0m\u001b[0;34m(\u001b[0m\u001b[0mcasted_key\u001b[0m\u001b[0;34m)\u001b[0m\u001b[0;34m\u001b[0m\u001b[0;34m\u001b[0m\u001b[0m\n\u001b[0m\u001b[1;32m   2899\u001b[0m             \u001b[0;32mexcept\u001b[0m \u001b[0mKeyError\u001b[0m \u001b[0;32mas\u001b[0m \u001b[0merr\u001b[0m\u001b[0;34m:\u001b[0m\u001b[0;34m\u001b[0m\u001b[0;34m\u001b[0m\u001b[0m\n",
            "\u001b[0;32mpandas/_libs/index.pyx\u001b[0m in \u001b[0;36mpandas._libs.index.IndexEngine.get_loc\u001b[0;34m()\u001b[0m\n",
            "\u001b[0;32mpandas/_libs/index.pyx\u001b[0m in \u001b[0;36mpandas._libs.index.IndexEngine.get_loc\u001b[0;34m()\u001b[0m\n",
            "\u001b[0;32mpandas/_libs/hashtable_class_helper.pxi\u001b[0m in \u001b[0;36mpandas._libs.hashtable.PyObjectHashTable.get_item\u001b[0;34m()\u001b[0m\n",
            "\u001b[0;32mpandas/_libs/hashtable_class_helper.pxi\u001b[0m in \u001b[0;36mpandas._libs.hashtable.PyObjectHashTable.get_item\u001b[0;34m()\u001b[0m\n",
            "\u001b[0;31mKeyError\u001b[0m: 'date_block_num'",
            "\nThe above exception was the direct cause of the following exception:\n",
            "\u001b[0;31mKeyError\u001b[0m                                  Traceback (most recent call last)",
            "\u001b[0;32m<ipython-input-28-a469d2aa7996>\u001b[0m in \u001b[0;36m<module>\u001b[0;34m()\u001b[0m\n\u001b[0;32m----> 1\u001b[0;31m \u001b[0mdata\u001b[0m\u001b[0;34m.\u001b[0m\u001b[0mindex\u001b[0m \u001b[0;34m=\u001b[0m \u001b[0mdata\u001b[0m\u001b[0;34m[\u001b[0m\u001b[0;34m'date_block_num'\u001b[0m\u001b[0;34m]\u001b[0m\u001b[0;34m\u001b[0m\u001b[0;34m\u001b[0m\u001b[0m\n\u001b[0m",
            "\u001b[0;32m/usr/local/lib/python3.7/dist-packages/pandas/core/frame.py\u001b[0m in \u001b[0;36m__getitem__\u001b[0;34m(self, key)\u001b[0m\n\u001b[1;32m   2904\u001b[0m             \u001b[0;32mif\u001b[0m \u001b[0mself\u001b[0m\u001b[0;34m.\u001b[0m\u001b[0mcolumns\u001b[0m\u001b[0;34m.\u001b[0m\u001b[0mnlevels\u001b[0m \u001b[0;34m>\u001b[0m \u001b[0;36m1\u001b[0m\u001b[0;34m:\u001b[0m\u001b[0;34m\u001b[0m\u001b[0;34m\u001b[0m\u001b[0m\n\u001b[1;32m   2905\u001b[0m                 \u001b[0;32mreturn\u001b[0m \u001b[0mself\u001b[0m\u001b[0;34m.\u001b[0m\u001b[0m_getitem_multilevel\u001b[0m\u001b[0;34m(\u001b[0m\u001b[0mkey\u001b[0m\u001b[0;34m)\u001b[0m\u001b[0;34m\u001b[0m\u001b[0;34m\u001b[0m\u001b[0m\n\u001b[0;32m-> 2906\u001b[0;31m             \u001b[0mindexer\u001b[0m \u001b[0;34m=\u001b[0m \u001b[0mself\u001b[0m\u001b[0;34m.\u001b[0m\u001b[0mcolumns\u001b[0m\u001b[0;34m.\u001b[0m\u001b[0mget_loc\u001b[0m\u001b[0;34m(\u001b[0m\u001b[0mkey\u001b[0m\u001b[0;34m)\u001b[0m\u001b[0;34m\u001b[0m\u001b[0;34m\u001b[0m\u001b[0m\n\u001b[0m\u001b[1;32m   2907\u001b[0m             \u001b[0;32mif\u001b[0m \u001b[0mis_integer\u001b[0m\u001b[0;34m(\u001b[0m\u001b[0mindexer\u001b[0m\u001b[0;34m)\u001b[0m\u001b[0;34m:\u001b[0m\u001b[0;34m\u001b[0m\u001b[0;34m\u001b[0m\u001b[0m\n\u001b[1;32m   2908\u001b[0m                 \u001b[0mindexer\u001b[0m \u001b[0;34m=\u001b[0m \u001b[0;34m[\u001b[0m\u001b[0mindexer\u001b[0m\u001b[0;34m]\u001b[0m\u001b[0;34m\u001b[0m\u001b[0;34m\u001b[0m\u001b[0m\n",
            "\u001b[0;32m/usr/local/lib/python3.7/dist-packages/pandas/core/indexes/base.py\u001b[0m in \u001b[0;36mget_loc\u001b[0;34m(self, key, method, tolerance)\u001b[0m\n\u001b[1;32m   2898\u001b[0m                 \u001b[0;32mreturn\u001b[0m \u001b[0mself\u001b[0m\u001b[0;34m.\u001b[0m\u001b[0m_engine\u001b[0m\u001b[0;34m.\u001b[0m\u001b[0mget_loc\u001b[0m\u001b[0;34m(\u001b[0m\u001b[0mcasted_key\u001b[0m\u001b[0;34m)\u001b[0m\u001b[0;34m\u001b[0m\u001b[0;34m\u001b[0m\u001b[0m\n\u001b[1;32m   2899\u001b[0m             \u001b[0;32mexcept\u001b[0m \u001b[0mKeyError\u001b[0m \u001b[0;32mas\u001b[0m \u001b[0merr\u001b[0m\u001b[0;34m:\u001b[0m\u001b[0;34m\u001b[0m\u001b[0;34m\u001b[0m\u001b[0m\n\u001b[0;32m-> 2900\u001b[0;31m                 \u001b[0;32mraise\u001b[0m \u001b[0mKeyError\u001b[0m\u001b[0;34m(\u001b[0m\u001b[0mkey\u001b[0m\u001b[0;34m)\u001b[0m \u001b[0;32mfrom\u001b[0m \u001b[0merr\u001b[0m\u001b[0;34m\u001b[0m\u001b[0;34m\u001b[0m\u001b[0m\n\u001b[0m\u001b[1;32m   2901\u001b[0m \u001b[0;34m\u001b[0m\u001b[0m\n\u001b[1;32m   2902\u001b[0m         \u001b[0;32mif\u001b[0m \u001b[0mtolerance\u001b[0m \u001b[0;32mis\u001b[0m \u001b[0;32mnot\u001b[0m \u001b[0;32mNone\u001b[0m\u001b[0;34m:\u001b[0m\u001b[0;34m\u001b[0m\u001b[0;34m\u001b[0m\u001b[0m\n",
            "\u001b[0;31mKeyError\u001b[0m: 'date_block_num'"
          ]
        }
      ]
    },
    {
      "cell_type": "code",
      "source": [
        "temp = data.groupby(columns[:2])['item_cnt_month'].rolling(3).mean()"
      ],
      "metadata": {
        "id": "_wtLF_3FvDM5"
      },
      "execution_count": null,
      "outputs": []
    },
    {
      "cell_type": "code",
      "source": [
        ""
      ],
      "metadata": {
        "colab": {
          "base_uri": "https://localhost:8080/"
        },
        "id": "hrw9WNkbV8P9",
        "outputId": "e22be5fe-2e13-4439-e648-10752c1ef62e"
      },
      "execution_count": null,
      "outputs": [
        {
          "output_type": "execute_result",
          "data": {
            "text/plain": [
              "shop_id  item_id\n",
              "0        30               NaN\n",
              "         30               NaN\n",
              "         30         10.333333\n",
              "         30         10.333333\n",
              "         30          0.000000\n",
              "                      ...    \n",
              "59       22167       0.000000\n",
              "         22167       0.000000\n",
              "         22167       0.000000\n",
              "         22167       0.000000\n",
              "         22167       0.000000\n",
              "Name: item_cnt_month, Length: 14420216, dtype: float64"
            ]
          },
          "metadata": {},
          "execution_count": 31
        }
      ]
    },
    {
      "cell_type": "code",
      "source": [
        ""
      ],
      "metadata": {
        "id": "ujhVQdRGvDPm"
      },
      "execution_count": null,
      "outputs": []
    },
    {
      "cell_type": "code",
      "source": [
        "items"
      ],
      "metadata": {
        "id": "TBTqd5sd3xj3",
        "outputId": "3aba9598-cc80-4e0b-a170-0f2fe9a81e95",
        "colab": {
          "base_uri": "https://localhost:8080/",
          "height": 450
        }
      },
      "execution_count": null,
      "outputs": [
        {
          "output_type": "execute_result",
          "data": {
            "text/html": [
              "\n",
              "  <div id=\"df-4e503bdc-cd5e-43d8-804b-1e9a8c532634\">\n",
              "    <div class=\"colab-df-container\">\n",
              "      <div>\n",
              "<style scoped>\n",
              "    .dataframe tbody tr th:only-of-type {\n",
              "        vertical-align: middle;\n",
              "    }\n",
              "\n",
              "    .dataframe tbody tr th {\n",
              "        vertical-align: top;\n",
              "    }\n",
              "\n",
              "    .dataframe thead th {\n",
              "        text-align: right;\n",
              "    }\n",
              "</style>\n",
              "<table border=\"1\" class=\"dataframe\">\n",
              "  <thead>\n",
              "    <tr style=\"text-align: right;\">\n",
              "      <th></th>\n",
              "      <th>item_name</th>\n",
              "      <th>item_category_id</th>\n",
              "    </tr>\n",
              "    <tr>\n",
              "      <th>item_id</th>\n",
              "      <th></th>\n",
              "      <th></th>\n",
              "    </tr>\n",
              "  </thead>\n",
              "  <tbody>\n",
              "    <tr>\n",
              "      <th>0</th>\n",
              "      <td>! ВО ВЛАСТИ НАВАЖДЕНИЯ (ПЛАСТ.)         D</td>\n",
              "      <td>40</td>\n",
              "    </tr>\n",
              "    <tr>\n",
              "      <th>1</th>\n",
              "      <td>!ABBYY FineReader 12 Professional Edition Full...</td>\n",
              "      <td>76</td>\n",
              "    </tr>\n",
              "    <tr>\n",
              "      <th>2</th>\n",
              "      <td>***В ЛУЧАХ СЛАВЫ   (UNV)                    D</td>\n",
              "      <td>40</td>\n",
              "    </tr>\n",
              "    <tr>\n",
              "      <th>3</th>\n",
              "      <td>***ГОЛУБАЯ ВОЛНА  (Univ)                      D</td>\n",
              "      <td>40</td>\n",
              "    </tr>\n",
              "    <tr>\n",
              "      <th>4</th>\n",
              "      <td>***КОРОБКА (СТЕКЛО)                       D</td>\n",
              "      <td>40</td>\n",
              "    </tr>\n",
              "    <tr>\n",
              "      <th>...</th>\n",
              "      <td>...</td>\n",
              "      <td>...</td>\n",
              "    </tr>\n",
              "    <tr>\n",
              "      <th>22165</th>\n",
              "      <td>Ядерный титбит 2 [PC, Цифровая версия]</td>\n",
              "      <td>31</td>\n",
              "    </tr>\n",
              "    <tr>\n",
              "      <th>22166</th>\n",
              "      <td>Язык запросов 1С:Предприятия  [Цифровая версия]</td>\n",
              "      <td>54</td>\n",
              "    </tr>\n",
              "    <tr>\n",
              "      <th>22167</th>\n",
              "      <td>Язык запросов 1С:Предприятия 8 (+CD). Хрустале...</td>\n",
              "      <td>49</td>\n",
              "    </tr>\n",
              "    <tr>\n",
              "      <th>22168</th>\n",
              "      <td>Яйцо для Little Inu</td>\n",
              "      <td>62</td>\n",
              "    </tr>\n",
              "    <tr>\n",
              "      <th>22169</th>\n",
              "      <td>Яйцо дракона (Игра престолов)</td>\n",
              "      <td>69</td>\n",
              "    </tr>\n",
              "  </tbody>\n",
              "</table>\n",
              "<p>22170 rows × 2 columns</p>\n",
              "</div>\n",
              "      <button class=\"colab-df-convert\" onclick=\"convertToInteractive('df-4e503bdc-cd5e-43d8-804b-1e9a8c532634')\"\n",
              "              title=\"Convert this dataframe to an interactive table.\"\n",
              "              style=\"display:none;\">\n",
              "        \n",
              "  <svg xmlns=\"http://www.w3.org/2000/svg\" height=\"24px\"viewBox=\"0 0 24 24\"\n",
              "       width=\"24px\">\n",
              "    <path d=\"M0 0h24v24H0V0z\" fill=\"none\"/>\n",
              "    <path d=\"M18.56 5.44l.94 2.06.94-2.06 2.06-.94-2.06-.94-.94-2.06-.94 2.06-2.06.94zm-11 1L8.5 8.5l.94-2.06 2.06-.94-2.06-.94L8.5 2.5l-.94 2.06-2.06.94zm10 10l.94 2.06.94-2.06 2.06-.94-2.06-.94-.94-2.06-.94 2.06-2.06.94z\"/><path d=\"M17.41 7.96l-1.37-1.37c-.4-.4-.92-.59-1.43-.59-.52 0-1.04.2-1.43.59L10.3 9.45l-7.72 7.72c-.78.78-.78 2.05 0 2.83L4 21.41c.39.39.9.59 1.41.59.51 0 1.02-.2 1.41-.59l7.78-7.78 2.81-2.81c.8-.78.8-2.07 0-2.86zM5.41 20L4 18.59l7.72-7.72 1.47 1.35L5.41 20z\"/>\n",
              "  </svg>\n",
              "      </button>\n",
              "      \n",
              "  <style>\n",
              "    .colab-df-container {\n",
              "      display:flex;\n",
              "      flex-wrap:wrap;\n",
              "      gap: 12px;\n",
              "    }\n",
              "\n",
              "    .colab-df-convert {\n",
              "      background-color: #E8F0FE;\n",
              "      border: none;\n",
              "      border-radius: 50%;\n",
              "      cursor: pointer;\n",
              "      display: none;\n",
              "      fill: #1967D2;\n",
              "      height: 32px;\n",
              "      padding: 0 0 0 0;\n",
              "      width: 32px;\n",
              "    }\n",
              "\n",
              "    .colab-df-convert:hover {\n",
              "      background-color: #E2EBFA;\n",
              "      box-shadow: 0px 1px 2px rgba(60, 64, 67, 0.3), 0px 1px 3px 1px rgba(60, 64, 67, 0.15);\n",
              "      fill: #174EA6;\n",
              "    }\n",
              "\n",
              "    [theme=dark] .colab-df-convert {\n",
              "      background-color: #3B4455;\n",
              "      fill: #D2E3FC;\n",
              "    }\n",
              "\n",
              "    [theme=dark] .colab-df-convert:hover {\n",
              "      background-color: #434B5C;\n",
              "      box-shadow: 0px 1px 3px 1px rgba(0, 0, 0, 0.15);\n",
              "      filter: drop-shadow(0px 1px 2px rgba(0, 0, 0, 0.3));\n",
              "      fill: #FFFFFF;\n",
              "    }\n",
              "  </style>\n",
              "\n",
              "      <script>\n",
              "        const buttonEl =\n",
              "          document.querySelector('#df-4e503bdc-cd5e-43d8-804b-1e9a8c532634 button.colab-df-convert');\n",
              "        buttonEl.style.display =\n",
              "          google.colab.kernel.accessAllowed ? 'block' : 'none';\n",
              "\n",
              "        async function convertToInteractive(key) {\n",
              "          const element = document.querySelector('#df-4e503bdc-cd5e-43d8-804b-1e9a8c532634');\n",
              "          const dataTable =\n",
              "            await google.colab.kernel.invokeFunction('convertToInteractive',\n",
              "                                                     [key], {});\n",
              "          if (!dataTable) return;\n",
              "\n",
              "          const docLinkHtml = 'Like what you see? Visit the ' +\n",
              "            '<a target=\"_blank\" href=https://colab.research.google.com/notebooks/data_table.ipynb>data table notebook</a>'\n",
              "            + ' to learn more about interactive tables.';\n",
              "          element.innerHTML = '';\n",
              "          dataTable['output_type'] = 'display_data';\n",
              "          await google.colab.output.renderOutput(dataTable, element);\n",
              "          const docLink = document.createElement('div');\n",
              "          docLink.innerHTML = docLinkHtml;\n",
              "          element.appendChild(docLink);\n",
              "        }\n",
              "      </script>\n",
              "    </div>\n",
              "  </div>\n",
              "  "
            ],
            "text/plain": [
              "                                                 item_name  item_category_id\n",
              "item_id                                                                     \n",
              "0                ! ВО ВЛАСТИ НАВАЖДЕНИЯ (ПЛАСТ.)         D                40\n",
              "1        !ABBYY FineReader 12 Professional Edition Full...                76\n",
              "2            ***В ЛУЧАХ СЛАВЫ   (UNV)                    D                40\n",
              "3          ***ГОЛУБАЯ ВОЛНА  (Univ)                      D                40\n",
              "4              ***КОРОБКА (СТЕКЛО)                       D                40\n",
              "...                                                    ...               ...\n",
              "22165               Ядерный титбит 2 [PC, Цифровая версия]                31\n",
              "22166      Язык запросов 1С:Предприятия  [Цифровая версия]                54\n",
              "22167    Язык запросов 1С:Предприятия 8 (+CD). Хрустале...                49\n",
              "22168                                  Яйцо для Little Inu                62\n",
              "22169                        Яйцо дракона (Игра престолов)                69\n",
              "\n",
              "[22170 rows x 2 columns]"
            ]
          },
          "metadata": {},
          "execution_count": 8
        }
      ]
    },
    {
      "cell_type": "code",
      "source": [
        ""
      ],
      "metadata": {
        "id": "fKTkivZ5OMkK"
      },
      "execution_count": null,
      "outputs": []
    },
    {
      "cell_type": "code",
      "source": [
        ""
      ],
      "metadata": {
        "id": "mjTogg1z3xmb"
      },
      "execution_count": null,
      "outputs": []
    },
    {
      "cell_type": "code",
      "source": [
        ""
      ],
      "metadata": {
        "id": "ggFZN1RFYErx"
      },
      "execution_count": null,
      "outputs": []
    },
    {
      "cell_type": "code",
      "source": [
        ""
      ],
      "metadata": {
        "id": "nqcgoa3yYEub"
      },
      "execution_count": null,
      "outputs": []
    },
    {
      "cell_type": "code",
      "source": [
        ""
      ],
      "metadata": {
        "id": "Vya5cpG7YEwj"
      },
      "execution_count": null,
      "outputs": []
    },
    {
      "cell_type": "code",
      "source": [
        "city.loc[data.groupby(['city_id'])['item_cnt_month'].max().sort_values().index]"
      ],
      "metadata": {
        "colab": {
          "base_uri": "https://localhost:8080/",
          "height": 1000
        },
        "id": "ne-bZXcyYEyw",
        "outputId": "8177d5de-05ca-4e4f-b351-682b40673c7e"
      },
      "execution_count": null,
      "outputs": [
        {
          "output_type": "execute_result",
          "data": {
            "text/html": [
              "\n",
              "  <div id=\"df-1c9d9501-4337-4462-9359-391fb5acd9f0\">\n",
              "    <div class=\"colab-df-container\">\n",
              "      <div>\n",
              "<style scoped>\n",
              "    .dataframe tbody tr th:only-of-type {\n",
              "        vertical-align: middle;\n",
              "    }\n",
              "\n",
              "    .dataframe tbody tr th {\n",
              "        vertical-align: top;\n",
              "    }\n",
              "\n",
              "    .dataframe thead th {\n",
              "        text-align: right;\n",
              "    }\n",
              "</style>\n",
              "<table border=\"1\" class=\"dataframe\">\n",
              "  <thead>\n",
              "    <tr style=\"text-align: right;\">\n",
              "      <th></th>\n",
              "      <th>city</th>\n",
              "      <th>2013</th>\n",
              "      <th>2014</th>\n",
              "      <th>2015</th>\n",
              "    </tr>\n",
              "    <tr>\n",
              "      <th>city_id</th>\n",
              "      <th></th>\n",
              "      <th></th>\n",
              "      <th></th>\n",
              "      <th></th>\n",
              "    </tr>\n",
              "  </thead>\n",
              "  <tbody>\n",
              "    <tr>\n",
              "      <th>8</th>\n",
              "      <td>Мытищи</td>\n",
              "      <td>179</td>\n",
              "      <td>183</td>\n",
              "      <td>187</td>\n",
              "    </tr>\n",
              "    <tr>\n",
              "      <th>24</th>\n",
              "      <td>Жуковский</td>\n",
              "      <td>107</td>\n",
              "      <td>108</td>\n",
              "      <td>108</td>\n",
              "    </tr>\n",
              "    <tr>\n",
              "      <th>3</th>\n",
              "      <td>Самара</td>\n",
              "      <td>1172</td>\n",
              "      <td>1172</td>\n",
              "      <td>1172</td>\n",
              "    </tr>\n",
              "    <tr>\n",
              "      <th>2</th>\n",
              "      <td>Ярославль</td>\n",
              "      <td>599</td>\n",
              "      <td>602</td>\n",
              "      <td>604</td>\n",
              "    </tr>\n",
              "    <tr>\n",
              "      <th>17</th>\n",
              "      <td>Адыгея</td>\n",
              "      <td>444</td>\n",
              "      <td>444</td>\n",
              "      <td>444</td>\n",
              "    </tr>\n",
              "    <tr>\n",
              "      <th>15</th>\n",
              "      <td>Вологда</td>\n",
              "      <td>306</td>\n",
              "      <td>308</td>\n",
              "      <td>311</td>\n",
              "    </tr>\n",
              "    <tr>\n",
              "      <th>1</th>\n",
              "      <td>Курск</td>\n",
              "      <td>429</td>\n",
              "      <td>431</td>\n",
              "      <td>435</td>\n",
              "    </tr>\n",
              "    <tr>\n",
              "      <th>6</th>\n",
              "      <td>Балашиха</td>\n",
              "      <td>235</td>\n",
              "      <td>247</td>\n",
              "      <td>261</td>\n",
              "    </tr>\n",
              "    <tr>\n",
              "      <th>20</th>\n",
              "      <td>Новосибирск</td>\n",
              "      <td>1524</td>\n",
              "      <td>1548</td>\n",
              "      <td>1567</td>\n",
              "    </tr>\n",
              "    <tr>\n",
              "      <th>10</th>\n",
              "      <td>Чехов</td>\n",
              "      <td>70</td>\n",
              "      <td>70</td>\n",
              "      <td>70</td>\n",
              "    </tr>\n",
              "    <tr>\n",
              "      <th>12</th>\n",
              "      <td>Омск</td>\n",
              "      <td>1161</td>\n",
              "      <td>1166</td>\n",
              "      <td>1174</td>\n",
              "    </tr>\n",
              "    <tr>\n",
              "      <th>11</th>\n",
              "      <td>Уфа</td>\n",
              "      <td>1078</td>\n",
              "      <td>1097</td>\n",
              "      <td>1106</td>\n",
              "    </tr>\n",
              "    <tr>\n",
              "      <th>27</th>\n",
              "      <td>Казань</td>\n",
              "      <td>1176</td>\n",
              "      <td>1191</td>\n",
              "      <td>1206</td>\n",
              "    </tr>\n",
              "    <tr>\n",
              "      <th>28</th>\n",
              "      <td>РостовНаДону</td>\n",
              "      <td>1104</td>\n",
              "      <td>1110</td>\n",
              "      <td>1115</td>\n",
              "    </tr>\n",
              "    <tr>\n",
              "      <th>18</th>\n",
              "      <td>Волжский</td>\n",
              "      <td>327</td>\n",
              "      <td>327</td>\n",
              "      <td>327</td>\n",
              "    </tr>\n",
              "    <tr>\n",
              "      <th>19</th>\n",
              "      <td>Томск</td>\n",
              "      <td>548</td>\n",
              "      <td>557</td>\n",
              "      <td>565</td>\n",
              "    </tr>\n",
              "    <tr>\n",
              "      <th>22</th>\n",
              "      <td>Тюмень</td>\n",
              "      <td>634</td>\n",
              "      <td>680</td>\n",
              "      <td>697</td>\n",
              "    </tr>\n",
              "    <tr>\n",
              "      <th>13</th>\n",
              "      <td>Н.Новгород</td>\n",
              "      <td>1260</td>\n",
              "      <td>1264</td>\n",
              "      <td>1268</td>\n",
              "    </tr>\n",
              "    <tr>\n",
              "      <th>21</th>\n",
              "      <td>Коломна</td>\n",
              "      <td>145</td>\n",
              "      <td>144</td>\n",
              "      <td>144</td>\n",
              "    </tr>\n",
              "    <tr>\n",
              "      <th>5</th>\n",
              "      <td>Сергиев</td>\n",
              "      <td>108</td>\n",
              "      <td>107</td>\n",
              "      <td>106</td>\n",
              "    </tr>\n",
              "    <tr>\n",
              "      <th>29</th>\n",
              "      <td>Выездная Торговля</td>\n",
              "      <td>0</td>\n",
              "      <td>0</td>\n",
              "      <td>0</td>\n",
              "    </tr>\n",
              "    <tr>\n",
              "      <th>16</th>\n",
              "      <td>Красноярск</td>\n",
              "      <td>1016</td>\n",
              "      <td>1036</td>\n",
              "      <td>1052</td>\n",
              "    </tr>\n",
              "    <tr>\n",
              "      <th>7</th>\n",
              "      <td>Воронеж</td>\n",
              "      <td>1004</td>\n",
              "      <td>1015</td>\n",
              "      <td>1024</td>\n",
              "    </tr>\n",
              "    <tr>\n",
              "      <th>9</th>\n",
              "      <td>Сургут</td>\n",
              "      <td>326</td>\n",
              "      <td>332</td>\n",
              "      <td>341</td>\n",
              "    </tr>\n",
              "    <tr>\n",
              "      <th>25</th>\n",
              "      <td>Калуга</td>\n",
              "      <td>331</td>\n",
              "      <td>334</td>\n",
              "      <td>343</td>\n",
              "    </tr>\n",
              "    <tr>\n",
              "      <th>30</th>\n",
              "      <td>СПб</td>\n",
              "      <td>5028</td>\n",
              "      <td>5132</td>\n",
              "      <td>5192</td>\n",
              "    </tr>\n",
              "    <tr>\n",
              "      <th>4</th>\n",
              "      <td>Якутск</td>\n",
              "      <td>286</td>\n",
              "      <td>294</td>\n",
              "      <td>299</td>\n",
              "    </tr>\n",
              "    <tr>\n",
              "      <th>23</th>\n",
              "      <td>Химки</td>\n",
              "      <td>221</td>\n",
              "      <td>226</td>\n",
              "      <td>232</td>\n",
              "    </tr>\n",
              "    <tr>\n",
              "      <th>0</th>\n",
              "      <td>Москва</td>\n",
              "      <td>11980</td>\n",
              "      <td>12108</td>\n",
              "      <td>12108</td>\n",
              "    </tr>\n",
              "    <tr>\n",
              "      <th>14</th>\n",
              "      <td>Цифровой склад 1С-Онлайн</td>\n",
              "      <td>0</td>\n",
              "      <td>0</td>\n",
              "      <td>0</td>\n",
              "    </tr>\n",
              "    <tr>\n",
              "      <th>26</th>\n",
              "      <td>Интернет-магазин</td>\n",
              "      <td>0</td>\n",
              "      <td>0</td>\n",
              "      <td>0</td>\n",
              "    </tr>\n",
              "  </tbody>\n",
              "</table>\n",
              "</div>\n",
              "      <button class=\"colab-df-convert\" onclick=\"convertToInteractive('df-1c9d9501-4337-4462-9359-391fb5acd9f0')\"\n",
              "              title=\"Convert this dataframe to an interactive table.\"\n",
              "              style=\"display:none;\">\n",
              "        \n",
              "  <svg xmlns=\"http://www.w3.org/2000/svg\" height=\"24px\"viewBox=\"0 0 24 24\"\n",
              "       width=\"24px\">\n",
              "    <path d=\"M0 0h24v24H0V0z\" fill=\"none\"/>\n",
              "    <path d=\"M18.56 5.44l.94 2.06.94-2.06 2.06-.94-2.06-.94-.94-2.06-.94 2.06-2.06.94zm-11 1L8.5 8.5l.94-2.06 2.06-.94-2.06-.94L8.5 2.5l-.94 2.06-2.06.94zm10 10l.94 2.06.94-2.06 2.06-.94-2.06-.94-.94-2.06-.94 2.06-2.06.94z\"/><path d=\"M17.41 7.96l-1.37-1.37c-.4-.4-.92-.59-1.43-.59-.52 0-1.04.2-1.43.59L10.3 9.45l-7.72 7.72c-.78.78-.78 2.05 0 2.83L4 21.41c.39.39.9.59 1.41.59.51 0 1.02-.2 1.41-.59l7.78-7.78 2.81-2.81c.8-.78.8-2.07 0-2.86zM5.41 20L4 18.59l7.72-7.72 1.47 1.35L5.41 20z\"/>\n",
              "  </svg>\n",
              "      </button>\n",
              "      \n",
              "  <style>\n",
              "    .colab-df-container {\n",
              "      display:flex;\n",
              "      flex-wrap:wrap;\n",
              "      gap: 12px;\n",
              "    }\n",
              "\n",
              "    .colab-df-convert {\n",
              "      background-color: #E8F0FE;\n",
              "      border: none;\n",
              "      border-radius: 50%;\n",
              "      cursor: pointer;\n",
              "      display: none;\n",
              "      fill: #1967D2;\n",
              "      height: 32px;\n",
              "      padding: 0 0 0 0;\n",
              "      width: 32px;\n",
              "    }\n",
              "\n",
              "    .colab-df-convert:hover {\n",
              "      background-color: #E2EBFA;\n",
              "      box-shadow: 0px 1px 2px rgba(60, 64, 67, 0.3), 0px 1px 3px 1px rgba(60, 64, 67, 0.15);\n",
              "      fill: #174EA6;\n",
              "    }\n",
              "\n",
              "    [theme=dark] .colab-df-convert {\n",
              "      background-color: #3B4455;\n",
              "      fill: #D2E3FC;\n",
              "    }\n",
              "\n",
              "    [theme=dark] .colab-df-convert:hover {\n",
              "      background-color: #434B5C;\n",
              "      box-shadow: 0px 1px 3px 1px rgba(0, 0, 0, 0.15);\n",
              "      filter: drop-shadow(0px 1px 2px rgba(0, 0, 0, 0.3));\n",
              "      fill: #FFFFFF;\n",
              "    }\n",
              "  </style>\n",
              "\n",
              "      <script>\n",
              "        const buttonEl =\n",
              "          document.querySelector('#df-1c9d9501-4337-4462-9359-391fb5acd9f0 button.colab-df-convert');\n",
              "        buttonEl.style.display =\n",
              "          google.colab.kernel.accessAllowed ? 'block' : 'none';\n",
              "\n",
              "        async function convertToInteractive(key) {\n",
              "          const element = document.querySelector('#df-1c9d9501-4337-4462-9359-391fb5acd9f0');\n",
              "          const dataTable =\n",
              "            await google.colab.kernel.invokeFunction('convertToInteractive',\n",
              "                                                     [key], {});\n",
              "          if (!dataTable) return;\n",
              "\n",
              "          const docLinkHtml = 'Like what you see? Visit the ' +\n",
              "            '<a target=\"_blank\" href=https://colab.research.google.com/notebooks/data_table.ipynb>data table notebook</a>'\n",
              "            + ' to learn more about interactive tables.';\n",
              "          element.innerHTML = '';\n",
              "          dataTable['output_type'] = 'display_data';\n",
              "          await google.colab.output.renderOutput(dataTable, element);\n",
              "          const docLink = document.createElement('div');\n",
              "          docLink.innerHTML = docLinkHtml;\n",
              "          element.appendChild(docLink);\n",
              "        }\n",
              "      </script>\n",
              "    </div>\n",
              "  </div>\n",
              "  "
            ],
            "text/plain": [
              "                             city   2013   2014   2015\n",
              "city_id                                               \n",
              "8                          Мытищи    179    183    187\n",
              "24                      Жуковский    107    108    108\n",
              "3                          Самара   1172   1172   1172\n",
              "2                       Ярославль    599    602    604\n",
              "17                         Адыгея    444    444    444\n",
              "15                        Вологда    306    308    311\n",
              "1                           Курск    429    431    435\n",
              "6                        Балашиха    235    247    261\n",
              "20                    Новосибирск   1524   1548   1567\n",
              "10                          Чехов     70     70     70\n",
              "12                           Омск   1161   1166   1174\n",
              "11                            Уфа   1078   1097   1106\n",
              "27                         Казань   1176   1191   1206\n",
              "28                   РостовНаДону   1104   1110   1115\n",
              "18                       Волжский    327    327    327\n",
              "19                          Томск    548    557    565\n",
              "22                         Тюмень    634    680    697\n",
              "13                     Н.Новгород   1260   1264   1268\n",
              "21                        Коломна    145    144    144\n",
              "5                         Сергиев    108    107    106\n",
              "29              Выездная Торговля      0      0      0\n",
              "16                     Красноярск   1016   1036   1052\n",
              "7                         Воронеж   1004   1015   1024\n",
              "9                          Сургут    326    332    341\n",
              "25                         Калуга    331    334    343\n",
              "30                            СПб   5028   5132   5192\n",
              "4                          Якутск    286    294    299\n",
              "23                          Химки    221    226    232\n",
              "0                          Москва  11980  12108  12108\n",
              "14       Цифровой склад 1С-Онлайн      0      0      0\n",
              "26               Интернет-магазин      0      0      0"
            ]
          },
          "metadata": {},
          "execution_count": 43
        }
      ]
    },
    {
      "cell_type": "code",
      "source": [
        "#data['item_cnt_month'].to_numpy()"
      ],
      "metadata": {
        "colab": {
          "base_uri": "https://localhost:8080/"
        },
        "id": "IoUJWt3kxS24",
        "outputId": "f40cfc8d-7183-4ec3-fd87-99578ba988cb"
      },
      "execution_count": null,
      "outputs": [
        {
          "output_type": "execute_result",
          "data": {
            "text/plain": [
              "array([31.,  0.,  0., ...,  0.,  0.,  0.], dtype=float32)"
            ]
          },
          "metadata": {},
          "execution_count": 47
        }
      ]
    },
    {
      "cell_type": "code",
      "source": [
        "tsm.RMSE(data['item_cnt_month'].to_numpy(),data['item_cnt_month'].to_numpy()-data['item_cnt_month'].to_numpy())"
      ],
      "metadata": {
        "colab": {
          "base_uri": "https://localhost:8080/"
        },
        "id": "hDQZP4x9YE3d",
        "outputId": "c46be989-eb93-43c1-8c2c-acb34e864eb5"
      },
      "execution_count": null,
      "outputs": [
        {
          "output_type": "execute_result",
          "data": {
            "text/plain": [
              "3.5986488"
            ]
          },
          "metadata": {},
          "execution_count": 48
        }
      ]
    }
  ]
}