{
 "cells": [
  {
   "cell_type": "code",
   "execution_count": 1,
   "metadata": {},
   "outputs": [],
   "source": [
    "import numpy as np\n",
    "import pandas as pd\n",
    "from matplotlib import pyplot as plt\n",
    "import seaborn as sns\n",
    "from pylab import rcParams"
   ]
  },
  {
   "cell_type": "code",
   "execution_count": 2,
   "metadata": {},
   "outputs": [],
   "source": [
    "from importlib import reload\n",
    "import time_series_module as tsm\n",
    "import time_series_cross_valid as tscv\n",
    "import time_series_versioning as tsver\n",
    "from functools import reduce"
   ]
  },
  {
   "cell_type": "code",
   "execution_count": 3,
   "metadata": {},
   "outputs": [],
   "source": [
    "from sklearn.linear_model import LinearRegression as LinReg\n",
    "from sklearn.linear_model import Ridge"
   ]
  },
  {
   "cell_type": "code",
   "execution_count": 4,
   "metadata": {},
   "outputs": [],
   "source": [
    "from sklearn.metrics import mean_squared_error as MSE"
   ]
  },
  {
   "cell_type": "code",
   "execution_count": 5,
   "metadata": {},
   "outputs": [],
   "source": [
    "df = pd.read_csv('train.csv')"
   ]
  },
  {
   "cell_type": "code",
   "execution_count": 6,
   "metadata": {},
   "outputs": [],
   "source": [
    "df['date_time'] = pd.to_datetime(df['date_time'])\n",
    "date_time = df['date_time'].copy()"
   ]
  },
  {
   "cell_type": "code",
   "execution_count": 7,
   "metadata": {},
   "outputs": [],
   "source": [
    "f_dict = {}"
   ]
  },
  {
   "cell_type": "code",
   "execution_count": 8,
   "metadata": {},
   "outputs": [
    {
     "data": {
      "text/plain": [
       "pandas.core.frame.DataFrame"
      ]
     },
     "execution_count": 8,
     "metadata": {},
     "output_type": "execute_result"
    }
   ],
   "source": [
    "type(df)"
   ]
  },
  {
   "cell_type": "code",
   "execution_count": 9,
   "metadata": {},
   "outputs": [],
   "source": [
    "date_time_features = tsm.get_date_time_features(df, 'date_time', month = True, season = True, year = True)"
   ]
  },
  {
   "cell_type": "code",
   "execution_count": 10,
   "metadata": {},
   "outputs": [
    {
     "data": {
      "text/plain": [
       "pandas.core.frame.DataFrame"
      ]
     },
     "execution_count": 10,
     "metadata": {},
     "output_type": "execute_result"
    }
   ],
   "source": [
    "type(df)"
   ]
  },
  {
   "cell_type": "code",
   "execution_count": 11,
   "metadata": {},
   "outputs": [],
   "source": [
    "targets = ['target_carbon_monoxide', 'target_benzene', 'target_nitrogen_oxides']"
   ]
  },
  {
   "cell_type": "code",
   "execution_count": 12,
   "metadata": {},
   "outputs": [],
   "source": [
    "def get_feature_list(df):\n",
    "    return [f for f in list(df.columns) if f not in targets and f != 'date_time']"
   ]
  },
  {
   "cell_type": "code",
   "execution_count": 14,
   "metadata": {},
   "outputs": [],
   "source": [
    "from statsmodels.tsa.seasonal import STL\n",
    "from statsmodels.tsa.seasonal import seasonal_decompose as SDE"
   ]
  },
  {
   "cell_type": "code",
   "execution_count": 15,
   "metadata": {},
   "outputs": [],
   "source": [
    "#df = tsm.feature_extractor(f_dict, df, lagged = [['deg_C', 'relative_humidity', 'absolute_humidity',\n",
    "#                                    'sensor_1', 'sensor_2', 'sensor_3', 'sensor_4', 'sensor_5'] + targets, 24],\n",
    "#                               RWF = [targets, 24, np.std])"
   ]
  },
  {
   "cell_type": "markdown",
   "metadata": {},
   "source": [
    "df.dropna(axis = 0, inplace = True)\n",
    "date_time = date_time[list(df.index)]\n",
    "date_time.index, df.index = list(range(len(df))), list(range(len(df)))"
   ]
  },
  {
   "cell_type": "code",
   "execution_count": 16,
   "metadata": {},
   "outputs": [],
   "source": [
    "#df = tsm.feature_extractor(f_dict, df, STL = [date_time,\n",
    "#                                         ['lag_target_carbon_monoxide_24', 'lag_target_benzene_24',\n",
    "#                                          'lag_target_nitrogen_oxides_24'],\n",
    "#                                         True, False, 'additive'])"
   ]
  },
  {
   "cell_type": "code",
   "execution_count": 17,
   "metadata": {},
   "outputs": [
    {
     "data": {
      "text/plain": [
       "pandas.core.frame.DataFrame"
      ]
     },
     "execution_count": 17,
     "metadata": {},
     "output_type": "execute_result"
    }
   ],
   "source": [
    "type(df)"
   ]
  },
  {
   "cell_type": "code",
   "execution_count": 18,
   "metadata": {},
   "outputs": [
    {
     "data": {
      "text/plain": [
       "{}"
      ]
     },
     "execution_count": 18,
     "metadata": {},
     "output_type": "execute_result"
    }
   ],
   "source": [
    "f_dict"
   ]
  },
  {
   "cell_type": "code",
   "execution_count": 19,
   "metadata": {},
   "outputs": [],
   "source": [
    "#df['idx'] = pd.DataFrame(data = list(range(len(df))), index = list(range(len(df))))"
   ]
  },
  {
   "cell_type": "code",
   "execution_count": 20,
   "metadata": {},
   "outputs": [],
   "source": [
    "features = get_feature_list(df)"
   ]
  },
  {
   "cell_type": "code",
   "execution_count": 21,
   "metadata": {},
   "outputs": [
    {
     "data": {
      "text/plain": [
       "<module 'time_series_module' from '/home/alexey/notebooks/EPAM/practice_1/time_series_module.py'>"
      ]
     },
     "execution_count": 21,
     "metadata": {},
     "output_type": "execute_result"
    }
   ],
   "source": [
    "reload(tsm)"
   ]
  },
  {
   "cell_type": "code",
   "execution_count": 22,
   "metadata": {},
   "outputs": [],
   "source": [
    "def mape(Y, Y_hat):\n",
    "    return 100 * np.abs(Y - Y_hat) / Y"
   ]
  },
  {
   "cell_type": "code",
   "execution_count": 23,
   "metadata": {},
   "outputs": [],
   "source": [
    "ridge = Ridge(alpha = .001, normalize = True)\n",
    "linreg = LinReg(normalize = True)"
   ]
  },
  {
   "cell_type": "code",
   "execution_count": 24,
   "metadata": {},
   "outputs": [
    {
     "data": {
      "text/plain": [
       "7111"
      ]
     },
     "execution_count": 24,
     "metadata": {},
     "output_type": "execute_result"
    }
   ],
   "source": [
    "len(df)"
   ]
  },
  {
   "cell_type": "code",
   "execution_count": 25,
   "metadata": {},
   "outputs": [
    {
     "data": {
      "text/plain": [
       "pandas.core.frame.DataFrame"
      ]
     },
     "execution_count": 25,
     "metadata": {},
     "output_type": "execute_result"
    }
   ],
   "source": [
    "type(df)"
   ]
  },
  {
   "cell_type": "code",
   "execution_count": 26,
   "metadata": {},
   "outputs": [],
   "source": [
    "rcParams['figure.figsize'] = 20, 8\n",
    "#cv = tscv.CrossValid(train_size = 2000, test_size = 740, min_period = 0)"
   ]
  },
  {
   "cell_type": "code",
   "execution_count": 27,
   "metadata": {},
   "outputs": [
    {
     "data": {
      "text/plain": [
       "<module 'time_series_module' from '/home/alexey/notebooks/EPAM/practice_1/time_series_module.py'>"
      ]
     },
     "execution_count": 27,
     "metadata": {},
     "output_type": "execute_result"
    }
   ],
   "source": [
    "reload(tsm)"
   ]
  },
  {
   "cell_type": "code",
   "execution_count": 28,
   "metadata": {},
   "outputs": [
    {
     "data": {
      "text/html": [
       "<div>\n",
       "<style scoped>\n",
       "    .dataframe tbody tr th:only-of-type {\n",
       "        vertical-align: middle;\n",
       "    }\n",
       "\n",
       "    .dataframe tbody tr th {\n",
       "        vertical-align: top;\n",
       "    }\n",
       "\n",
       "    .dataframe thead th {\n",
       "        text-align: right;\n",
       "    }\n",
       "</style>\n",
       "<table border=\"1\" class=\"dataframe\">\n",
       "  <thead>\n",
       "    <tr style=\"text-align: right;\">\n",
       "      <th></th>\n",
       "      <th>date_time</th>\n",
       "      <th>deg_C</th>\n",
       "      <th>relative_humidity</th>\n",
       "      <th>absolute_humidity</th>\n",
       "      <th>sensor_1</th>\n",
       "      <th>sensor_2</th>\n",
       "      <th>sensor_3</th>\n",
       "      <th>sensor_4</th>\n",
       "      <th>sensor_5</th>\n",
       "      <th>target_carbon_monoxide</th>\n",
       "      <th>...</th>\n",
       "      <th>m_9</th>\n",
       "      <th>m_10</th>\n",
       "      <th>m_11</th>\n",
       "      <th>m_12</th>\n",
       "      <th>s_1</th>\n",
       "      <th>s_2</th>\n",
       "      <th>s_3</th>\n",
       "      <th>s_4</th>\n",
       "      <th>y_2010</th>\n",
       "      <th>y_2011</th>\n",
       "    </tr>\n",
       "  </thead>\n",
       "  <tbody>\n",
       "    <tr>\n",
       "      <th>0</th>\n",
       "      <td>2010-03-10 18:00:00</td>\n",
       "      <td>13.1</td>\n",
       "      <td>46.0</td>\n",
       "      <td>0.7578</td>\n",
       "      <td>1387.2</td>\n",
       "      <td>1087.8</td>\n",
       "      <td>1056.0</td>\n",
       "      <td>1742.8</td>\n",
       "      <td>1293.4</td>\n",
       "      <td>2.5</td>\n",
       "      <td>...</td>\n",
       "      <td>0</td>\n",
       "      <td>0</td>\n",
       "      <td>0</td>\n",
       "      <td>0</td>\n",
       "      <td>0</td>\n",
       "      <td>1</td>\n",
       "      <td>0</td>\n",
       "      <td>0</td>\n",
       "      <td>1</td>\n",
       "      <td>0</td>\n",
       "    </tr>\n",
       "    <tr>\n",
       "      <th>1</th>\n",
       "      <td>2010-03-10 19:00:00</td>\n",
       "      <td>13.2</td>\n",
       "      <td>45.3</td>\n",
       "      <td>0.7255</td>\n",
       "      <td>1279.1</td>\n",
       "      <td>888.2</td>\n",
       "      <td>1197.5</td>\n",
       "      <td>1449.9</td>\n",
       "      <td>1010.9</td>\n",
       "      <td>2.1</td>\n",
       "      <td>...</td>\n",
       "      <td>0</td>\n",
       "      <td>0</td>\n",
       "      <td>0</td>\n",
       "      <td>0</td>\n",
       "      <td>0</td>\n",
       "      <td>1</td>\n",
       "      <td>0</td>\n",
       "      <td>0</td>\n",
       "      <td>1</td>\n",
       "      <td>0</td>\n",
       "    </tr>\n",
       "    <tr>\n",
       "      <th>2</th>\n",
       "      <td>2010-03-10 20:00:00</td>\n",
       "      <td>12.6</td>\n",
       "      <td>56.2</td>\n",
       "      <td>0.7502</td>\n",
       "      <td>1331.9</td>\n",
       "      <td>929.6</td>\n",
       "      <td>1060.2</td>\n",
       "      <td>1586.1</td>\n",
       "      <td>1117.0</td>\n",
       "      <td>2.2</td>\n",
       "      <td>...</td>\n",
       "      <td>0</td>\n",
       "      <td>0</td>\n",
       "      <td>0</td>\n",
       "      <td>0</td>\n",
       "      <td>0</td>\n",
       "      <td>1</td>\n",
       "      <td>0</td>\n",
       "      <td>0</td>\n",
       "      <td>1</td>\n",
       "      <td>0</td>\n",
       "    </tr>\n",
       "    <tr>\n",
       "      <th>3</th>\n",
       "      <td>2010-03-10 21:00:00</td>\n",
       "      <td>11.0</td>\n",
       "      <td>62.4</td>\n",
       "      <td>0.7867</td>\n",
       "      <td>1321.0</td>\n",
       "      <td>929.0</td>\n",
       "      <td>1102.9</td>\n",
       "      <td>1536.5</td>\n",
       "      <td>1263.2</td>\n",
       "      <td>2.2</td>\n",
       "      <td>...</td>\n",
       "      <td>0</td>\n",
       "      <td>0</td>\n",
       "      <td>0</td>\n",
       "      <td>0</td>\n",
       "      <td>0</td>\n",
       "      <td>1</td>\n",
       "      <td>0</td>\n",
       "      <td>0</td>\n",
       "      <td>1</td>\n",
       "      <td>0</td>\n",
       "    </tr>\n",
       "    <tr>\n",
       "      <th>4</th>\n",
       "      <td>2010-03-10 22:00:00</td>\n",
       "      <td>11.9</td>\n",
       "      <td>59.0</td>\n",
       "      <td>0.7888</td>\n",
       "      <td>1272.0</td>\n",
       "      <td>852.7</td>\n",
       "      <td>1180.9</td>\n",
       "      <td>1415.5</td>\n",
       "      <td>1132.2</td>\n",
       "      <td>1.5</td>\n",
       "      <td>...</td>\n",
       "      <td>0</td>\n",
       "      <td>0</td>\n",
       "      <td>0</td>\n",
       "      <td>0</td>\n",
       "      <td>0</td>\n",
       "      <td>1</td>\n",
       "      <td>0</td>\n",
       "      <td>0</td>\n",
       "      <td>1</td>\n",
       "      <td>0</td>\n",
       "    </tr>\n",
       "    <tr>\n",
       "      <th>...</th>\n",
       "      <td>...</td>\n",
       "      <td>...</td>\n",
       "      <td>...</td>\n",
       "      <td>...</td>\n",
       "      <td>...</td>\n",
       "      <td>...</td>\n",
       "      <td>...</td>\n",
       "      <td>...</td>\n",
       "      <td>...</td>\n",
       "      <td>...</td>\n",
       "      <td>...</td>\n",
       "      <td>...</td>\n",
       "      <td>...</td>\n",
       "      <td>...</td>\n",
       "      <td>...</td>\n",
       "      <td>...</td>\n",
       "      <td>...</td>\n",
       "      <td>...</td>\n",
       "      <td>...</td>\n",
       "      <td>...</td>\n",
       "      <td>...</td>\n",
       "    </tr>\n",
       "    <tr>\n",
       "      <th>7106</th>\n",
       "      <td>2010-12-31 20:00:00</td>\n",
       "      <td>9.2</td>\n",
       "      <td>32.0</td>\n",
       "      <td>0.3871</td>\n",
       "      <td>1000.5</td>\n",
       "      <td>811.2</td>\n",
       "      <td>873.0</td>\n",
       "      <td>909.0</td>\n",
       "      <td>910.5</td>\n",
       "      <td>1.3</td>\n",
       "      <td>...</td>\n",
       "      <td>0</td>\n",
       "      <td>0</td>\n",
       "      <td>0</td>\n",
       "      <td>1</td>\n",
       "      <td>1</td>\n",
       "      <td>0</td>\n",
       "      <td>0</td>\n",
       "      <td>0</td>\n",
       "      <td>1</td>\n",
       "      <td>0</td>\n",
       "    </tr>\n",
       "    <tr>\n",
       "      <th>7107</th>\n",
       "      <td>2010-12-31 21:00:00</td>\n",
       "      <td>9.1</td>\n",
       "      <td>33.2</td>\n",
       "      <td>0.3766</td>\n",
       "      <td>1022.7</td>\n",
       "      <td>790.0</td>\n",
       "      <td>951.6</td>\n",
       "      <td>912.9</td>\n",
       "      <td>903.4</td>\n",
       "      <td>1.4</td>\n",
       "      <td>...</td>\n",
       "      <td>0</td>\n",
       "      <td>0</td>\n",
       "      <td>0</td>\n",
       "      <td>1</td>\n",
       "      <td>1</td>\n",
       "      <td>0</td>\n",
       "      <td>0</td>\n",
       "      <td>0</td>\n",
       "      <td>1</td>\n",
       "      <td>0</td>\n",
       "    </tr>\n",
       "    <tr>\n",
       "      <th>7108</th>\n",
       "      <td>2010-12-31 22:00:00</td>\n",
       "      <td>9.6</td>\n",
       "      <td>34.6</td>\n",
       "      <td>0.4310</td>\n",
       "      <td>1044.4</td>\n",
       "      <td>767.3</td>\n",
       "      <td>861.9</td>\n",
       "      <td>889.2</td>\n",
       "      <td>1159.1</td>\n",
       "      <td>1.6</td>\n",
       "      <td>...</td>\n",
       "      <td>0</td>\n",
       "      <td>0</td>\n",
       "      <td>0</td>\n",
       "      <td>1</td>\n",
       "      <td>1</td>\n",
       "      <td>0</td>\n",
       "      <td>0</td>\n",
       "      <td>0</td>\n",
       "      <td>1</td>\n",
       "      <td>0</td>\n",
       "    </tr>\n",
       "    <tr>\n",
       "      <th>7109</th>\n",
       "      <td>2010-12-31 23:00:00</td>\n",
       "      <td>8.0</td>\n",
       "      <td>40.7</td>\n",
       "      <td>0.4085</td>\n",
       "      <td>952.8</td>\n",
       "      <td>691.9</td>\n",
       "      <td>908.5</td>\n",
       "      <td>917.0</td>\n",
       "      <td>1206.3</td>\n",
       "      <td>1.5</td>\n",
       "      <td>...</td>\n",
       "      <td>0</td>\n",
       "      <td>0</td>\n",
       "      <td>0</td>\n",
       "      <td>1</td>\n",
       "      <td>1</td>\n",
       "      <td>0</td>\n",
       "      <td>0</td>\n",
       "      <td>0</td>\n",
       "      <td>1</td>\n",
       "      <td>0</td>\n",
       "    </tr>\n",
       "    <tr>\n",
       "      <th>7110</th>\n",
       "      <td>2011-01-01 00:00:00</td>\n",
       "      <td>8.0</td>\n",
       "      <td>41.3</td>\n",
       "      <td>0.4375</td>\n",
       "      <td>1108.8</td>\n",
       "      <td>745.7</td>\n",
       "      <td>797.1</td>\n",
       "      <td>880.0</td>\n",
       "      <td>1273.1</td>\n",
       "      <td>1.4</td>\n",
       "      <td>...</td>\n",
       "      <td>0</td>\n",
       "      <td>0</td>\n",
       "      <td>0</td>\n",
       "      <td>0</td>\n",
       "      <td>1</td>\n",
       "      <td>0</td>\n",
       "      <td>0</td>\n",
       "      <td>0</td>\n",
       "      <td>0</td>\n",
       "      <td>1</td>\n",
       "    </tr>\n",
       "  </tbody>\n",
       "</table>\n",
       "<p>7111 rows × 85 columns</p>\n",
       "</div>"
      ],
      "text/plain": [
       "               date_time  deg_C  relative_humidity  absolute_humidity  \\\n",
       "0    2010-03-10 18:00:00   13.1               46.0             0.7578   \n",
       "1    2010-03-10 19:00:00   13.2               45.3             0.7255   \n",
       "2    2010-03-10 20:00:00   12.6               56.2             0.7502   \n",
       "3    2010-03-10 21:00:00   11.0               62.4             0.7867   \n",
       "4    2010-03-10 22:00:00   11.9               59.0             0.7888   \n",
       "...                  ...    ...                ...                ...   \n",
       "7106 2010-12-31 20:00:00    9.2               32.0             0.3871   \n",
       "7107 2010-12-31 21:00:00    9.1               33.2             0.3766   \n",
       "7108 2010-12-31 22:00:00    9.6               34.6             0.4310   \n",
       "7109 2010-12-31 23:00:00    8.0               40.7             0.4085   \n",
       "7110 2011-01-01 00:00:00    8.0               41.3             0.4375   \n",
       "\n",
       "      sensor_1  sensor_2  sensor_3  sensor_4  sensor_5  \\\n",
       "0       1387.2    1087.8    1056.0    1742.8    1293.4   \n",
       "1       1279.1     888.2    1197.5    1449.9    1010.9   \n",
       "2       1331.9     929.6    1060.2    1586.1    1117.0   \n",
       "3       1321.0     929.0    1102.9    1536.5    1263.2   \n",
       "4       1272.0     852.7    1180.9    1415.5    1132.2   \n",
       "...        ...       ...       ...       ...       ...   \n",
       "7106    1000.5     811.2     873.0     909.0     910.5   \n",
       "7107    1022.7     790.0     951.6     912.9     903.4   \n",
       "7108    1044.4     767.3     861.9     889.2    1159.1   \n",
       "7109     952.8     691.9     908.5     917.0    1206.3   \n",
       "7110    1108.8     745.7     797.1     880.0    1273.1   \n",
       "\n",
       "      target_carbon_monoxide  ...  m_9  m_10  m_11  m_12  s_1  s_2  s_3  s_4  \\\n",
       "0                        2.5  ...    0     0     0     0    0    1    0    0   \n",
       "1                        2.1  ...    0     0     0     0    0    1    0    0   \n",
       "2                        2.2  ...    0     0     0     0    0    1    0    0   \n",
       "3                        2.2  ...    0     0     0     0    0    1    0    0   \n",
       "4                        1.5  ...    0     0     0     0    0    1    0    0   \n",
       "...                      ...  ...  ...   ...   ...   ...  ...  ...  ...  ...   \n",
       "7106                     1.3  ...    0     0     0     1    1    0    0    0   \n",
       "7107                     1.4  ...    0     0     0     1    1    0    0    0   \n",
       "7108                     1.6  ...    0     0     0     1    1    0    0    0   \n",
       "7109                     1.5  ...    0     0     0     1    1    0    0    0   \n",
       "7110                     1.4  ...    0     0     0     0    1    0    0    0   \n",
       "\n",
       "      y_2010  y_2011  \n",
       "0          1       0  \n",
       "1          1       0  \n",
       "2          1       0  \n",
       "3          1       0  \n",
       "4          1       0  \n",
       "...      ...     ...  \n",
       "7106       1       0  \n",
       "7107       1       0  \n",
       "7108       1       0  \n",
       "7109       1       0  \n",
       "7110       0       1  \n",
       "\n",
       "[7111 rows x 85 columns]"
      ]
     },
     "execution_count": 28,
     "metadata": {},
     "output_type": "execute_result"
    }
   ],
   "source": [
    "df"
   ]
  },
  {
   "cell_type": "code",
   "execution_count": 29,
   "metadata": {},
   "outputs": [],
   "source": [
    "def cross_valid(forecast_model, horizon, cv_dict, model, metrics = MSE):\n",
    "    data, features, target = forecast_model.data, forecast_model.features, forecast_model.targets\n",
    "    cv = cv_dict['cv']\n",
    "    cv_split = list(cv.split(len(data), cv_dict['step'], cv_dict['gap']))\n",
    "    \n",
    "    results = {'mean_Y' : np.zeros((cv.train_size,1)),\n",
    "               'mean_Y_pred' : np.zeros((cv.test_size, 1)), \n",
    "               'train_loss' : 0, 'test_loss' : 0, 'train_horizons' : [], 'test_horizons' : [],\n",
    "               'mean_Y_train_pred' : np.zeros((cv.train_size, 1)), 'mean_Y_test' :np.zeros((cv.test_size, 1))}\n",
    "\n",
    "    for train, test in cv_split:\n",
    "        X_train, Y_train, X_test, Y_test = tsm.get_cv_matrices(data.loc[train], data.loc[test], features, target)\n",
    "        fitted_model = model.fit(X_train, Y_train)\n",
    "        Y_train_pred = np.reshape(fitted_model.predict(X_train), (len(X_train), 1))\n",
    "        Y_pred = np.reshape(fitted_model.predict(X_test), (len(X_test), 1))\n",
    "        results['train_loss'] += mape(Y_train, Y_train_pred)\n",
    "        results['test_loss'] += mape(Y_test, Y_pred)\n",
    "        results['mean_Y'] += Y_train\n",
    "        results['mean_Y_train_pred'] += Y_train_pred\n",
    "        results['mean_Y_test'] += Y_test\n",
    "        results['mean_Y_pred'] += Y_pred\n",
    "    results['train_loss'] /= cv.n_splits\n",
    "    results['test_loss'] /= cv.n_splits\n",
    "    results['mean_Y'] /= cv.n_splits\n",
    "    results['mean_Y_pred'] /= cv.n_splits\n",
    "    results['cv_dict'] = cv_dict\n",
    "    return results"
   ]
  },
  {
   "cell_type": "code",
   "execution_count": 30,
   "metadata": {
    "scrolled": false
   },
   "outputs": [
    {
     "name": "stderr",
     "output_type": "stream",
     "text": [
      "/home/alexey/notebooks/EPAM/practice_1/time_series_module.py:102: PerformanceWarning: DataFrame is highly fragmented.  This is usually the result of calling `frame.insert` many times, which has poor performance.  Consider using pd.concat instead.  To get a de-fragmented frame, use `newframe = frame.copy()`\n",
      "  data['lag_' + c + '_' + str(l)] = lagged(data, c, l)\n",
      "/home/alexey/notebooks/EPAM/practice_1/time_series_module.py:102: PerformanceWarning: DataFrame is highly fragmented.  This is usually the result of calling `frame.insert` many times, which has poor performance.  Consider using pd.concat instead.  To get a de-fragmented frame, use `newframe = frame.copy()`\n",
      "  data['lag_' + c + '_' + str(l)] = lagged(data, c, l)\n",
      "/home/alexey/notebooks/EPAM/practice_1/time_series_module.py:102: PerformanceWarning: DataFrame is highly fragmented.  This is usually the result of calling `frame.insert` many times, which has poor performance.  Consider using pd.concat instead.  To get a de-fragmented frame, use `newframe = frame.copy()`\n",
      "  data['lag_' + c + '_' + str(l)] = lagged(data, c, l)\n",
      "/home/alexey/notebooks/EPAM/practice_1/time_series_module.py:102: PerformanceWarning: DataFrame is highly fragmented.  This is usually the result of calling `frame.insert` many times, which has poor performance.  Consider using pd.concat instead.  To get a de-fragmented frame, use `newframe = frame.copy()`\n",
      "  data['lag_' + c + '_' + str(l)] = lagged(data, c, l)\n",
      "/home/alexey/notebooks/EPAM/practice_1/time_series_module.py:102: PerformanceWarning: DataFrame is highly fragmented.  This is usually the result of calling `frame.insert` many times, which has poor performance.  Consider using pd.concat instead.  To get a de-fragmented frame, use `newframe = frame.copy()`\n",
      "  data['lag_' + c + '_' + str(l)] = lagged(data, c, l)\n",
      "/home/alexey/notebooks/EPAM/practice_1/time_series_module.py:102: PerformanceWarning: DataFrame is highly fragmented.  This is usually the result of calling `frame.insert` many times, which has poor performance.  Consider using pd.concat instead.  To get a de-fragmented frame, use `newframe = frame.copy()`\n",
      "  data['lag_' + c + '_' + str(l)] = lagged(data, c, l)\n",
      "/home/alexey/notebooks/EPAM/practice_1/time_series_module.py:102: PerformanceWarning: DataFrame is highly fragmented.  This is usually the result of calling `frame.insert` many times, which has poor performance.  Consider using pd.concat instead.  To get a de-fragmented frame, use `newframe = frame.copy()`\n",
      "  data['lag_' + c + '_' + str(l)] = lagged(data, c, l)\n",
      "/home/alexey/notebooks/EPAM/practice_1/time_series_module.py:102: PerformanceWarning: DataFrame is highly fragmented.  This is usually the result of calling `frame.insert` many times, which has poor performance.  Consider using pd.concat instead.  To get a de-fragmented frame, use `newframe = frame.copy()`\n",
      "  data['lag_' + c + '_' + str(l)] = lagged(data, c, l)\n",
      "/home/alexey/notebooks/EPAM/practice_1/time_series_module.py:102: PerformanceWarning: DataFrame is highly fragmented.  This is usually the result of calling `frame.insert` many times, which has poor performance.  Consider using pd.concat instead.  To get a de-fragmented frame, use `newframe = frame.copy()`\n",
      "  data['lag_' + c + '_' + str(l)] = lagged(data, c, l)\n",
      "/home/alexey/notebooks/EPAM/practice_1/time_series_module.py:102: PerformanceWarning: DataFrame is highly fragmented.  This is usually the result of calling `frame.insert` many times, which has poor performance.  Consider using pd.concat instead.  To get a de-fragmented frame, use `newframe = frame.copy()`\n",
      "  data['lag_' + c + '_' + str(l)] = lagged(data, c, l)\n",
      "/home/alexey/notebooks/EPAM/practice_1/time_series_module.py:102: PerformanceWarning: DataFrame is highly fragmented.  This is usually the result of calling `frame.insert` many times, which has poor performance.  Consider using pd.concat instead.  To get a de-fragmented frame, use `newframe = frame.copy()`\n",
      "  data['lag_' + c + '_' + str(l)] = lagged(data, c, l)\n",
      "/home/alexey/notebooks/EPAM/practice_1/time_series_module.py:102: PerformanceWarning: DataFrame is highly fragmented.  This is usually the result of calling `frame.insert` many times, which has poor performance.  Consider using pd.concat instead.  To get a de-fragmented frame, use `newframe = frame.copy()`\n",
      "  data['lag_' + c + '_' + str(l)] = lagged(data, c, l)\n",
      "/home/alexey/notebooks/EPAM/practice_1/time_series_module.py:102: PerformanceWarning: DataFrame is highly fragmented.  This is usually the result of calling `frame.insert` many times, which has poor performance.  Consider using pd.concat instead.  To get a de-fragmented frame, use `newframe = frame.copy()`\n",
      "  data['lag_' + c + '_' + str(l)] = lagged(data, c, l)\n",
      "/home/alexey/notebooks/EPAM/practice_1/time_series_module.py:102: PerformanceWarning: DataFrame is highly fragmented.  This is usually the result of calling `frame.insert` many times, which has poor performance.  Consider using pd.concat instead.  To get a de-fragmented frame, use `newframe = frame.copy()`\n",
      "  data['lag_' + c + '_' + str(l)] = lagged(data, c, l)\n",
      "/home/alexey/notebooks/EPAM/practice_1/time_series_module.py:102: PerformanceWarning: DataFrame is highly fragmented.  This is usually the result of calling `frame.insert` many times, which has poor performance.  Consider using pd.concat instead.  To get a de-fragmented frame, use `newframe = frame.copy()`\n",
      "  data['lag_' + c + '_' + str(l)] = lagged(data, c, l)\n",
      "/home/alexey/notebooks/EPAM/practice_1/time_series_module.py:102: PerformanceWarning: DataFrame is highly fragmented.  This is usually the result of calling `frame.insert` many times, which has poor performance.  Consider using pd.concat instead.  To get a de-fragmented frame, use `newframe = frame.copy()`\n",
      "  data['lag_' + c + '_' + str(l)] = lagged(data, c, l)\n",
      "/home/alexey/notebooks/EPAM/practice_1/time_series_module.py:102: PerformanceWarning: DataFrame is highly fragmented.  This is usually the result of calling `frame.insert` many times, which has poor performance.  Consider using pd.concat instead.  To get a de-fragmented frame, use `newframe = frame.copy()`\n",
      "  data['lag_' + c + '_' + str(l)] = lagged(data, c, l)\n",
      "/home/alexey/notebooks/EPAM/practice_1/time_series_module.py:102: PerformanceWarning: DataFrame is highly fragmented.  This is usually the result of calling `frame.insert` many times, which has poor performance.  Consider using pd.concat instead.  To get a de-fragmented frame, use `newframe = frame.copy()`\n",
      "  data['lag_' + c + '_' + str(l)] = lagged(data, c, l)\n",
      "/home/alexey/notebooks/EPAM/practice_1/time_series_module.py:102: PerformanceWarning: DataFrame is highly fragmented.  This is usually the result of calling `frame.insert` many times, which has poor performance.  Consider using pd.concat instead.  To get a de-fragmented frame, use `newframe = frame.copy()`\n",
      "  data['lag_' + c + '_' + str(l)] = lagged(data, c, l)\n",
      "/home/alexey/notebooks/EPAM/practice_1/time_series_module.py:102: PerformanceWarning: DataFrame is highly fragmented.  This is usually the result of calling `frame.insert` many times, which has poor performance.  Consider using pd.concat instead.  To get a de-fragmented frame, use `newframe = frame.copy()`\n",
      "  data['lag_' + c + '_' + str(l)] = lagged(data, c, l)\n",
      "/home/alexey/notebooks/EPAM/practice_1/time_series_module.py:102: PerformanceWarning: DataFrame is highly fragmented.  This is usually the result of calling `frame.insert` many times, which has poor performance.  Consider using pd.concat instead.  To get a de-fragmented frame, use `newframe = frame.copy()`\n",
      "  data['lag_' + c + '_' + str(l)] = lagged(data, c, l)\n",
      "/home/alexey/notebooks/EPAM/practice_1/time_series_module.py:102: PerformanceWarning: DataFrame is highly fragmented.  This is usually the result of calling `frame.insert` many times, which has poor performance.  Consider using pd.concat instead.  To get a de-fragmented frame, use `newframe = frame.copy()`\n",
      "  data['lag_' + c + '_' + str(l)] = lagged(data, c, l)\n",
      "/home/alexey/notebooks/EPAM/practice_1/time_series_module.py:102: PerformanceWarning: DataFrame is highly fragmented.  This is usually the result of calling `frame.insert` many times, which has poor performance.  Consider using pd.concat instead.  To get a de-fragmented frame, use `newframe = frame.copy()`\n",
      "  data['lag_' + c + '_' + str(l)] = lagged(data, c, l)\n"
     ]
    },
    {
     "name": "stderr",
     "output_type": "stream",
     "text": [
      "/home/alexey/notebooks/EPAM/practice_1/time_series_module.py:102: PerformanceWarning: DataFrame is highly fragmented.  This is usually the result of calling `frame.insert` many times, which has poor performance.  Consider using pd.concat instead.  To get a de-fragmented frame, use `newframe = frame.copy()`\n",
      "  data['lag_' + c + '_' + str(l)] = lagged(data, c, l)\n",
      "/home/alexey/notebooks/EPAM/practice_1/time_series_module.py:102: PerformanceWarning: DataFrame is highly fragmented.  This is usually the result of calling `frame.insert` many times, which has poor performance.  Consider using pd.concat instead.  To get a de-fragmented frame, use `newframe = frame.copy()`\n",
      "  data['lag_' + c + '_' + str(l)] = lagged(data, c, l)\n",
      "/home/alexey/notebooks/EPAM/practice_1/time_series_module.py:102: PerformanceWarning: DataFrame is highly fragmented.  This is usually the result of calling `frame.insert` many times, which has poor performance.  Consider using pd.concat instead.  To get a de-fragmented frame, use `newframe = frame.copy()`\n",
      "  data['lag_' + c + '_' + str(l)] = lagged(data, c, l)\n",
      "/home/alexey/notebooks/EPAM/practice_1/time_series_module.py:102: PerformanceWarning: DataFrame is highly fragmented.  This is usually the result of calling `frame.insert` many times, which has poor performance.  Consider using pd.concat instead.  To get a de-fragmented frame, use `newframe = frame.copy()`\n",
      "  data['lag_' + c + '_' + str(l)] = lagged(data, c, l)\n",
      "/home/alexey/notebooks/EPAM/practice_1/time_series_module.py:102: PerformanceWarning: DataFrame is highly fragmented.  This is usually the result of calling `frame.insert` many times, which has poor performance.  Consider using pd.concat instead.  To get a de-fragmented frame, use `newframe = frame.copy()`\n",
      "  data['lag_' + c + '_' + str(l)] = lagged(data, c, l)\n",
      "/home/alexey/notebooks/EPAM/practice_1/time_series_module.py:102: PerformanceWarning: DataFrame is highly fragmented.  This is usually the result of calling `frame.insert` many times, which has poor performance.  Consider using pd.concat instead.  To get a de-fragmented frame, use `newframe = frame.copy()`\n",
      "  data['lag_' + c + '_' + str(l)] = lagged(data, c, l)\n",
      "/home/alexey/notebooks/EPAM/practice_1/time_series_module.py:102: PerformanceWarning: DataFrame is highly fragmented.  This is usually the result of calling `frame.insert` many times, which has poor performance.  Consider using pd.concat instead.  To get a de-fragmented frame, use `newframe = frame.copy()`\n",
      "  data['lag_' + c + '_' + str(l)] = lagged(data, c, l)\n",
      "/home/alexey/notebooks/EPAM/practice_1/time_series_module.py:102: PerformanceWarning: DataFrame is highly fragmented.  This is usually the result of calling `frame.insert` many times, which has poor performance.  Consider using pd.concat instead.  To get a de-fragmented frame, use `newframe = frame.copy()`\n",
      "  data['lag_' + c + '_' + str(l)] = lagged(data, c, l)\n",
      "/home/alexey/notebooks/EPAM/practice_1/time_series_module.py:102: PerformanceWarning: DataFrame is highly fragmented.  This is usually the result of calling `frame.insert` many times, which has poor performance.  Consider using pd.concat instead.  To get a de-fragmented frame, use `newframe = frame.copy()`\n",
      "  data['lag_' + c + '_' + str(l)] = lagged(data, c, l)\n",
      "/home/alexey/notebooks/EPAM/practice_1/time_series_module.py:102: PerformanceWarning: DataFrame is highly fragmented.  This is usually the result of calling `frame.insert` many times, which has poor performance.  Consider using pd.concat instead.  To get a de-fragmented frame, use `newframe = frame.copy()`\n",
      "  data['lag_' + c + '_' + str(l)] = lagged(data, c, l)\n",
      "/home/alexey/notebooks/EPAM/practice_1/time_series_module.py:102: PerformanceWarning: DataFrame is highly fragmented.  This is usually the result of calling `frame.insert` many times, which has poor performance.  Consider using pd.concat instead.  To get a de-fragmented frame, use `newframe = frame.copy()`\n",
      "  data['lag_' + c + '_' + str(l)] = lagged(data, c, l)\n",
      "/home/alexey/notebooks/EPAM/practice_1/time_series_module.py:102: PerformanceWarning: DataFrame is highly fragmented.  This is usually the result of calling `frame.insert` many times, which has poor performance.  Consider using pd.concat instead.  To get a de-fragmented frame, use `newframe = frame.copy()`\n",
      "  data['lag_' + c + '_' + str(l)] = lagged(data, c, l)\n",
      "/home/alexey/notebooks/EPAM/practice_1/time_series_module.py:102: PerformanceWarning: DataFrame is highly fragmented.  This is usually the result of calling `frame.insert` many times, which has poor performance.  Consider using pd.concat instead.  To get a de-fragmented frame, use `newframe = frame.copy()`\n",
      "  data['lag_' + c + '_' + str(l)] = lagged(data, c, l)\n",
      "/home/alexey/notebooks/EPAM/practice_1/time_series_module.py:102: PerformanceWarning: DataFrame is highly fragmented.  This is usually the result of calling `frame.insert` many times, which has poor performance.  Consider using pd.concat instead.  To get a de-fragmented frame, use `newframe = frame.copy()`\n",
      "  data['lag_' + c + '_' + str(l)] = lagged(data, c, l)\n",
      "/home/alexey/notebooks/EPAM/practice_1/time_series_module.py:102: PerformanceWarning: DataFrame is highly fragmented.  This is usually the result of calling `frame.insert` many times, which has poor performance.  Consider using pd.concat instead.  To get a de-fragmented frame, use `newframe = frame.copy()`\n",
      "  data['lag_' + c + '_' + str(l)] = lagged(data, c, l)\n",
      "/home/alexey/notebooks/EPAM/practice_1/time_series_module.py:102: PerformanceWarning: DataFrame is highly fragmented.  This is usually the result of calling `frame.insert` many times, which has poor performance.  Consider using pd.concat instead.  To get a de-fragmented frame, use `newframe = frame.copy()`\n",
      "  data['lag_' + c + '_' + str(l)] = lagged(data, c, l)\n",
      "/home/alexey/notebooks/EPAM/practice_1/time_series_module.py:102: PerformanceWarning: DataFrame is highly fragmented.  This is usually the result of calling `frame.insert` many times, which has poor performance.  Consider using pd.concat instead.  To get a de-fragmented frame, use `newframe = frame.copy()`\n",
      "  data['lag_' + c + '_' + str(l)] = lagged(data, c, l)\n",
      "/home/alexey/notebooks/EPAM/practice_1/time_series_module.py:102: PerformanceWarning: DataFrame is highly fragmented.  This is usually the result of calling `frame.insert` many times, which has poor performance.  Consider using pd.concat instead.  To get a de-fragmented frame, use `newframe = frame.copy()`\n",
      "  data['lag_' + c + '_' + str(l)] = lagged(data, c, l)\n",
      "/home/alexey/notebooks/EPAM/practice_1/time_series_module.py:102: PerformanceWarning: DataFrame is highly fragmented.  This is usually the result of calling `frame.insert` many times, which has poor performance.  Consider using pd.concat instead.  To get a de-fragmented frame, use `newframe = frame.copy()`\n",
      "  data['lag_' + c + '_' + str(l)] = lagged(data, c, l)\n",
      "/home/alexey/notebooks/EPAM/practice_1/time_series_module.py:102: PerformanceWarning: DataFrame is highly fragmented.  This is usually the result of calling `frame.insert` many times, which has poor performance.  Consider using pd.concat instead.  To get a de-fragmented frame, use `newframe = frame.copy()`\n",
      "  data['lag_' + c + '_' + str(l)] = lagged(data, c, l)\n",
      "/home/alexey/notebooks/EPAM/practice_1/time_series_module.py:102: PerformanceWarning: DataFrame is highly fragmented.  This is usually the result of calling `frame.insert` many times, which has poor performance.  Consider using pd.concat instead.  To get a de-fragmented frame, use `newframe = frame.copy()`\n",
      "  data['lag_' + c + '_' + str(l)] = lagged(data, c, l)\n",
      "/home/alexey/notebooks/EPAM/practice_1/time_series_module.py:102: PerformanceWarning: DataFrame is highly fragmented.  This is usually the result of calling `frame.insert` many times, which has poor performance.  Consider using pd.concat instead.  To get a de-fragmented frame, use `newframe = frame.copy()`\n",
      "  data['lag_' + c + '_' + str(l)] = lagged(data, c, l)\n",
      "/home/alexey/notebooks/EPAM/practice_1/time_series_module.py:102: PerformanceWarning: DataFrame is highly fragmented.  This is usually the result of calling `frame.insert` many times, which has poor performance.  Consider using pd.concat instead.  To get a de-fragmented frame, use `newframe = frame.copy()`\n",
      "  data['lag_' + c + '_' + str(l)] = lagged(data, c, l)\n"
     ]
    },
    {
     "name": "stderr",
     "output_type": "stream",
     "text": [
      "/home/alexey/notebooks/EPAM/practice_1/time_series_module.py:102: PerformanceWarning: DataFrame is highly fragmented.  This is usually the result of calling `frame.insert` many times, which has poor performance.  Consider using pd.concat instead.  To get a de-fragmented frame, use `newframe = frame.copy()`\n",
      "  data['lag_' + c + '_' + str(l)] = lagged(data, c, l)\n",
      "/home/alexey/notebooks/EPAM/practice_1/time_series_module.py:102: PerformanceWarning: DataFrame is highly fragmented.  This is usually the result of calling `frame.insert` many times, which has poor performance.  Consider using pd.concat instead.  To get a de-fragmented frame, use `newframe = frame.copy()`\n",
      "  data['lag_' + c + '_' + str(l)] = lagged(data, c, l)\n",
      "/home/alexey/notebooks/EPAM/practice_1/time_series_module.py:102: PerformanceWarning: DataFrame is highly fragmented.  This is usually the result of calling `frame.insert` many times, which has poor performance.  Consider using pd.concat instead.  To get a de-fragmented frame, use `newframe = frame.copy()`\n",
      "  data['lag_' + c + '_' + str(l)] = lagged(data, c, l)\n",
      "/home/alexey/notebooks/EPAM/practice_1/time_series_module.py:102: PerformanceWarning: DataFrame is highly fragmented.  This is usually the result of calling `frame.insert` many times, which has poor performance.  Consider using pd.concat instead.  To get a de-fragmented frame, use `newframe = frame.copy()`\n",
      "  data['lag_' + c + '_' + str(l)] = lagged(data, c, l)\n",
      "/home/alexey/notebooks/EPAM/practice_1/time_series_module.py:102: PerformanceWarning: DataFrame is highly fragmented.  This is usually the result of calling `frame.insert` many times, which has poor performance.  Consider using pd.concat instead.  To get a de-fragmented frame, use `newframe = frame.copy()`\n",
      "  data['lag_' + c + '_' + str(l)] = lagged(data, c, l)\n",
      "/home/alexey/notebooks/EPAM/practice_1/time_series_module.py:102: PerformanceWarning: DataFrame is highly fragmented.  This is usually the result of calling `frame.insert` many times, which has poor performance.  Consider using pd.concat instead.  To get a de-fragmented frame, use `newframe = frame.copy()`\n",
      "  data['lag_' + c + '_' + str(l)] = lagged(data, c, l)\n",
      "/home/alexey/notebooks/EPAM/practice_1/time_series_module.py:102: PerformanceWarning: DataFrame is highly fragmented.  This is usually the result of calling `frame.insert` many times, which has poor performance.  Consider using pd.concat instead.  To get a de-fragmented frame, use `newframe = frame.copy()`\n",
      "  data['lag_' + c + '_' + str(l)] = lagged(data, c, l)\n",
      "/home/alexey/notebooks/EPAM/practice_1/time_series_module.py:102: PerformanceWarning: DataFrame is highly fragmented.  This is usually the result of calling `frame.insert` many times, which has poor performance.  Consider using pd.concat instead.  To get a de-fragmented frame, use `newframe = frame.copy()`\n",
      "  data['lag_' + c + '_' + str(l)] = lagged(data, c, l)\n",
      "/home/alexey/notebooks/EPAM/practice_1/time_series_module.py:102: PerformanceWarning: DataFrame is highly fragmented.  This is usually the result of calling `frame.insert` many times, which has poor performance.  Consider using pd.concat instead.  To get a de-fragmented frame, use `newframe = frame.copy()`\n",
      "  data['lag_' + c + '_' + str(l)] = lagged(data, c, l)\n",
      "/home/alexey/notebooks/EPAM/practice_1/time_series_module.py:102: PerformanceWarning: DataFrame is highly fragmented.  This is usually the result of calling `frame.insert` many times, which has poor performance.  Consider using pd.concat instead.  To get a de-fragmented frame, use `newframe = frame.copy()`\n",
      "  data['lag_' + c + '_' + str(l)] = lagged(data, c, l)\n",
      "/home/alexey/notebooks/EPAM/practice_1/time_series_module.py:102: PerformanceWarning: DataFrame is highly fragmented.  This is usually the result of calling `frame.insert` many times, which has poor performance.  Consider using pd.concat instead.  To get a de-fragmented frame, use `newframe = frame.copy()`\n",
      "  data['lag_' + c + '_' + str(l)] = lagged(data, c, l)\n"
     ]
    }
   ],
   "source": [
    "quality = {}\n",
    "horizons = 20\n",
    "for tar in targets:\n",
    "    quality[tar] = {'train_loss' : [], 'test_loss' : [], 'mean_Y' : [], 'mean_Y_pred' : [], \n",
    "              'mean_Y_train_pred' : [], 'mean_Y_test' : []}\n",
    "for hor in range(1,horizons + 1):\n",
    "    for tar in  targets:\n",
    "        forecast_model = tsm.ForecastModel(df[date_time_features], df, features + targets, [tar], prior_lag = list(range(hor, horizons + 1)), post_lag = -hor)\n",
    "        forecast_model.forecast_prep(new_index = True)\n",
    "        train_size = 2000 - horizons\n",
    "        cv = tscv.CrossValid(train_size = train_size, test_size = 1, min_period = 0)\n",
    "        cv_dict = {'cv' : cv, 'step' : 100, 'gap' : hor - 1}\n",
    "        results = cross_valid(forecast_model, hor, cv_dict, ridge, mape)\n",
    "        quality[tar]['train_loss'].append(results['train_loss'])\n",
    "        quality[tar]['test_loss'].append(results['test_loss'])\n",
    "        quality[tar]['mean_Y'].append(results['mean_Y'])\n",
    "        quality[tar]['mean_Y_pred'].append(results['mean_Y_pred'])\n",
    "        quality[tar]['mean_Y_train_pred'].append(results['mean_Y_train_pred'])\n",
    "        quality[tar]['mean_Y_test'].append(results['mean_Y_test'])\n",
    "        quality[tar]['cv_dict'] = cv_dict"
   ]
  },
  {
   "cell_type": "code",
   "execution_count": 32,
   "metadata": {},
   "outputs": [],
   "source": [
    "def plt_cv(quality, horizons):\n",
    "    for key in quality.keys():\n",
    "        print(key)\n",
    "        cv = results['cv_dict']['cv']\n",
    "        train_index = list(range(cv.train_size))\n",
    "        test_index = list(range(cv.train_size,cv.train_size + horizons))\n",
    "        plt.plot(train_index,reduce(lambda a, b: a + b, quality[key]['mean_Y'])/horizons, label = 'mean_Y')\n",
    "        plt.plot(train_index,reduce(lambda a, b: a + b, quality[key]['mean_Y_train_pred'])/horizons, alpha = .5, label = 'mean_Y_train_pred')\n",
    "        plt.plot(test_index, np.reshape(quality[key]['mean_Y_test'], (horizons,1)),color = 'r', label = 'mean_Y_test')\n",
    "        plt.plot(test_index, np.reshape(quality[key]['mean_Y_pred'],(horizons,1)), alpha = .5, label = 'mean_Y_pred')\n",
    "        plt.legend()\n",
    "        plt.show()"
   ]
  },
  {
   "cell_type": "code",
   "execution_count": 33,
   "metadata": {},
   "outputs": [
    {
     "name": "stdout",
     "output_type": "stream",
     "text": [
      "target_carbon_monoxide\n"
     ]
    },
    {
     "data": {
      "image/png": "[encoded data removed]",
      "text/plain": [
       "<Figure size 1440x576 with 1 Axes>"
      ]
     },
     "metadata": {
      "needs_background": "light"
     },
     "output_type": "display_data"
    },
    {
     "name": "stdout",
     "output_type": "stream",
     "text": [
      "target_benzene\n"
     ]
    },
    {
     "data": {
      "image/png": "[encoded data removed]",
      "text/plain": [
       "<Figure size 1440x576 with 1 Axes>"
      ]
     },
     "metadata": {
      "needs_background": "light"
     },
     "output_type": "display_data"
    },
    {
     "name": "stdout",
     "output_type": "stream",
     "text": [
      "target_nitrogen_oxides\n"
     ]
    },
    {
     "data": {
      "image/png": "[encoded data removed]",
      "text/plain": [
       "<Figure size 1440x576 with 1 Axes>"
      ]
     },
     "metadata": {
      "needs_background": "light"
     },
     "output_type": "display_data"
    }
   ],
   "source": [
    "plt_cv(quality,horizons)"
   ]
  }
 ],
 "metadata": {
  "kernelspec": {
   "display_name": "Python 3 (ipykernel)",
   "language": "python",
   "name": "python3"
  },
  "language_info": {
   "codemirror_mode": {
    "name": "ipython",
    "version": 3
   },
   "file_extension": ".py",
   "mimetype": "text/x-python",
   "name": "python",
   "nbconvert_exporter": "python",
   "pygments_lexer": "ipython3",
   "version": "3.8.10"
  }
 },
 "nbformat": 4,
 "nbformat_minor": 4
}
