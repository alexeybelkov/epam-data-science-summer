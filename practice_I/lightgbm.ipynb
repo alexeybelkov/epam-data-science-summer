{
 "cells": [
  {
   "cell_type": "code",
   "execution_count": 1,
   "id": "e4561db2",
   "metadata": {},
   "outputs": [],
   "source": [
    "import pandas as pd\n",
    "import numpy as np\n",
    "import time_series_module as tsm\n",
    "import time_series_cross_valid as tscv\n",
    "import time_series_versioning as tsver\n",
    "import matplotlib.pyplot as plt\n",
    "import seaborn as sns\n",
    "from pylab import rcParams\n",
    "from importlib import reload\n",
    "from statsmodels.graphics import tsaplots\n",
    "from statsmodels.api import tsa"
   ]
  },
  {
   "cell_type": "markdown",
   "id": "1228e5b3",
   "metadata": {},
   "source": [
    "### Features & targets"
   ]
  },
  {
   "cell_type": "code",
   "execution_count": 2,
   "id": "677fb00b",
   "metadata": {},
   "outputs": [],
   "source": [
    "df = pd.read_csv('train.csv')\n",
    "df['date_time'] = pd.to_datetime(df['date_time'])"
   ]
  },
  {
   "cell_type": "code",
   "execution_count": 3,
   "id": "57d87a0b",
   "metadata": {},
   "outputs": [],
   "source": [
    "dt_features = tsm.get_date_time_features(df, 'date_time', hour = [True, False], day = [True, False],\n",
    "                                                month = [True, False], season = [True, False], year = [False])\n",
    "df.drop(columns = ['date_time'], inplace = True)"
   ]
  },
  {
   "cell_type": "code",
   "execution_count": 4,
   "id": "dba762c2",
   "metadata": {},
   "outputs": [
    {
     "data": {
      "text/plain": [
       "['hour', 'day', 'month', 'season']"
      ]
     },
     "execution_count": 4,
     "metadata": {},
     "output_type": "execute_result"
    }
   ],
   "source": [
    "dt_features"
   ]
  },
  {
   "cell_type": "code",
   "execution_count": 5,
   "id": "b49f7cb4",
   "metadata": {},
   "outputs": [
    {
     "data": {
      "text/html": [
       "<div>\n",
       "<style scoped>\n",
       "    .dataframe tbody tr th:only-of-type {\n",
       "        vertical-align: middle;\n",
       "    }\n",
       "\n",
       "    .dataframe tbody tr th {\n",
       "        vertical-align: top;\n",
       "    }\n",
       "\n",
       "    .dataframe thead th {\n",
       "        text-align: right;\n",
       "    }\n",
       "</style>\n",
       "<table border=\"1\" class=\"dataframe\">\n",
       "  <thead>\n",
       "    <tr style=\"text-align: right;\">\n",
       "      <th></th>\n",
       "      <th>deg_C</th>\n",
       "      <th>relative_humidity</th>\n",
       "      <th>absolute_humidity</th>\n",
       "      <th>sensor_1</th>\n",
       "      <th>sensor_2</th>\n",
       "      <th>sensor_3</th>\n",
       "      <th>sensor_4</th>\n",
       "      <th>sensor_5</th>\n",
       "      <th>target_carbon_monoxide</th>\n",
       "      <th>target_benzene</th>\n",
       "      <th>target_nitrogen_oxides</th>\n",
       "      <th>hour</th>\n",
       "      <th>day</th>\n",
       "      <th>month</th>\n",
       "      <th>season</th>\n",
       "    </tr>\n",
       "  </thead>\n",
       "  <tbody>\n",
       "    <tr>\n",
       "      <th>0</th>\n",
       "      <td>13.1</td>\n",
       "      <td>46.0</td>\n",
       "      <td>0.7578</td>\n",
       "      <td>1387.2</td>\n",
       "      <td>1087.8</td>\n",
       "      <td>1056.0</td>\n",
       "      <td>1742.8</td>\n",
       "      <td>1293.4</td>\n",
       "      <td>2.5</td>\n",
       "      <td>12.0</td>\n",
       "      <td>167.7</td>\n",
       "      <td>18</td>\n",
       "      <td>10</td>\n",
       "      <td>3</td>\n",
       "      <td>2</td>\n",
       "    </tr>\n",
       "    <tr>\n",
       "      <th>1</th>\n",
       "      <td>13.2</td>\n",
       "      <td>45.3</td>\n",
       "      <td>0.7255</td>\n",
       "      <td>1279.1</td>\n",
       "      <td>888.2</td>\n",
       "      <td>1197.5</td>\n",
       "      <td>1449.9</td>\n",
       "      <td>1010.9</td>\n",
       "      <td>2.1</td>\n",
       "      <td>9.9</td>\n",
       "      <td>98.9</td>\n",
       "      <td>19</td>\n",
       "      <td>10</td>\n",
       "      <td>3</td>\n",
       "      <td>2</td>\n",
       "    </tr>\n",
       "    <tr>\n",
       "      <th>2</th>\n",
       "      <td>12.6</td>\n",
       "      <td>56.2</td>\n",
       "      <td>0.7502</td>\n",
       "      <td>1331.9</td>\n",
       "      <td>929.6</td>\n",
       "      <td>1060.2</td>\n",
       "      <td>1586.1</td>\n",
       "      <td>1117.0</td>\n",
       "      <td>2.2</td>\n",
       "      <td>9.2</td>\n",
       "      <td>127.1</td>\n",
       "      <td>20</td>\n",
       "      <td>10</td>\n",
       "      <td>3</td>\n",
       "      <td>2</td>\n",
       "    </tr>\n",
       "  </tbody>\n",
       "</table>\n",
       "</div>"
      ],
      "text/plain": [
       "   deg_C  relative_humidity  absolute_humidity  sensor_1  sensor_2  sensor_3  \\\n",
       "0   13.1               46.0             0.7578    1387.2    1087.8    1056.0   \n",
       "1   13.2               45.3             0.7255    1279.1     888.2    1197.5   \n",
       "2   12.6               56.2             0.7502    1331.9     929.6    1060.2   \n",
       "\n",
       "   sensor_4  sensor_5  target_carbon_monoxide  target_benzene  \\\n",
       "0    1742.8    1293.4                     2.5            12.0   \n",
       "1    1449.9    1010.9                     2.1             9.9   \n",
       "2    1586.1    1117.0                     2.2             9.2   \n",
       "\n",
       "   target_nitrogen_oxides  hour  day  month  season  \n",
       "0                   167.7    18   10      3       2  \n",
       "1                    98.9    19   10      3       2  \n",
       "2                   127.1    20   10      3       2  "
      ]
     },
     "execution_count": 5,
     "metadata": {},
     "output_type": "execute_result"
    }
   ],
   "source": [
    "df.head(3)"
   ]
  },
  {
   "cell_type": "code",
   "execution_count": 6,
   "id": "11ba986b",
   "metadata": {},
   "outputs": [],
   "source": [
    "targets = ['target_carbon_monoxide', 'target_benzene', 'target_nitrogen_oxides']"
   ]
  },
  {
   "cell_type": "code",
   "execution_count": 7,
   "id": "5e1dcff4",
   "metadata": {},
   "outputs": [],
   "source": [
    "def get_features_list(data, date_time_columns):\n",
    "    return [feature for feature in data.columns if feature not in targets + date_time_columns]"
   ]
  },
  {
   "cell_type": "code",
   "execution_count": 8,
   "id": "7cda6dab",
   "metadata": {},
   "outputs": [],
   "source": [
    "features = get_features_list(df, dt_features)"
   ]
  },
  {
   "cell_type": "markdown",
   "id": "c13cd2b8",
   "metadata": {},
   "source": [
    "### LightGBM"
   ]
  },
  {
   "cell_type": "code",
   "execution_count": 9,
   "id": "3b3b0858",
   "metadata": {},
   "outputs": [],
   "source": [
    "import lightgbm as lgbm"
   ]
  },
  {
   "cell_type": "code",
   "execution_count": 10,
   "id": "c71eb71a",
   "metadata": {},
   "outputs": [
    {
     "data": {
      "text/html": [
       "<div>\n",
       "<style scoped>\n",
       "    .dataframe tbody tr th:only-of-type {\n",
       "        vertical-align: middle;\n",
       "    }\n",
       "\n",
       "    .dataframe tbody tr th {\n",
       "        vertical-align: top;\n",
       "    }\n",
       "\n",
       "    .dataframe thead th {\n",
       "        text-align: right;\n",
       "    }\n",
       "</style>\n",
       "<table border=\"1\" class=\"dataframe\">\n",
       "  <thead>\n",
       "    <tr style=\"text-align: right;\">\n",
       "      <th></th>\n",
       "      <th>lag_deg_C_1</th>\n",
       "      <th>lag_deg_C_2</th>\n",
       "      <th>lag_deg_C_3</th>\n",
       "      <th>lag_deg_C_4</th>\n",
       "      <th>lag_deg_C_5</th>\n",
       "      <th>lag_deg_C_6</th>\n",
       "      <th>lag_deg_C_7</th>\n",
       "      <th>lag_deg_C_8</th>\n",
       "      <th>lag_deg_C_9</th>\n",
       "      <th>lag_relative_humidity_1</th>\n",
       "      <th>...</th>\n",
       "      <th>lag_target_carbon_monoxide_5</th>\n",
       "      <th>lag_target_carbon_monoxide_6</th>\n",
       "      <th>lag_target_carbon_monoxide_7</th>\n",
       "      <th>lag_target_carbon_monoxide_8</th>\n",
       "      <th>lag_target_carbon_monoxide_9</th>\n",
       "      <th>lag_target_carbon_monoxide_0</th>\n",
       "      <th>hour</th>\n",
       "      <th>day</th>\n",
       "      <th>month</th>\n",
       "      <th>season</th>\n",
       "    </tr>\n",
       "  </thead>\n",
       "  <tbody>\n",
       "    <tr>\n",
       "      <th>0</th>\n",
       "      <td>10.1</td>\n",
       "      <td>10.3</td>\n",
       "      <td>10.7</td>\n",
       "      <td>11.2</td>\n",
       "      <td>11.9</td>\n",
       "      <td>11.0</td>\n",
       "      <td>12.6</td>\n",
       "      <td>13.2</td>\n",
       "      <td>13.1</td>\n",
       "      <td>62.7</td>\n",
       "      <td>...</td>\n",
       "      <td>1.5</td>\n",
       "      <td>2.2</td>\n",
       "      <td>2.2</td>\n",
       "      <td>2.1</td>\n",
       "      <td>2.5</td>\n",
       "      <td>0.6</td>\n",
       "      <td>3</td>\n",
       "      <td>11</td>\n",
       "      <td>3</td>\n",
       "      <td>2</td>\n",
       "    </tr>\n",
       "    <tr>\n",
       "      <th>1</th>\n",
       "      <td>10.5</td>\n",
       "      <td>10.1</td>\n",
       "      <td>10.3</td>\n",
       "      <td>10.7</td>\n",
       "      <td>11.2</td>\n",
       "      <td>11.9</td>\n",
       "      <td>11.0</td>\n",
       "      <td>12.6</td>\n",
       "      <td>13.2</td>\n",
       "      <td>59.6</td>\n",
       "      <td>...</td>\n",
       "      <td>1.2</td>\n",
       "      <td>1.5</td>\n",
       "      <td>2.2</td>\n",
       "      <td>2.2</td>\n",
       "      <td>2.1</td>\n",
       "      <td>0.7</td>\n",
       "      <td>4</td>\n",
       "      <td>11</td>\n",
       "      <td>3</td>\n",
       "      <td>2</td>\n",
       "    </tr>\n",
       "    <tr>\n",
       "      <th>2</th>\n",
       "      <td>9.4</td>\n",
       "      <td>10.5</td>\n",
       "      <td>10.1</td>\n",
       "      <td>10.3</td>\n",
       "      <td>10.7</td>\n",
       "      <td>11.2</td>\n",
       "      <td>11.9</td>\n",
       "      <td>11.0</td>\n",
       "      <td>12.6</td>\n",
       "      <td>59.9</td>\n",
       "      <td>...</td>\n",
       "      <td>1.2</td>\n",
       "      <td>1.2</td>\n",
       "      <td>1.5</td>\n",
       "      <td>2.2</td>\n",
       "      <td>2.2</td>\n",
       "      <td>0.7</td>\n",
       "      <td>5</td>\n",
       "      <td>11</td>\n",
       "      <td>3</td>\n",
       "      <td>2</td>\n",
       "    </tr>\n",
       "  </tbody>\n",
       "</table>\n",
       "<p>3 rows × 86 columns</p>\n",
       "</div>"
      ],
      "text/plain": [
       "   lag_deg_C_1  lag_deg_C_2  lag_deg_C_3  lag_deg_C_4  lag_deg_C_5  \\\n",
       "0         10.1         10.3         10.7         11.2         11.9   \n",
       "1         10.5         10.1         10.3         10.7         11.2   \n",
       "2          9.4         10.5         10.1         10.3         10.7   \n",
       "\n",
       "   lag_deg_C_6  lag_deg_C_7  lag_deg_C_8  lag_deg_C_9  \\\n",
       "0         11.0         12.6         13.2         13.1   \n",
       "1         11.9         11.0         12.6         13.2   \n",
       "2         11.2         11.9         11.0         12.6   \n",
       "\n",
       "   lag_relative_humidity_1  ...  lag_target_carbon_monoxide_5  \\\n",
       "0                     62.7  ...                           1.5   \n",
       "1                     59.6  ...                           1.2   \n",
       "2                     59.9  ...                           1.2   \n",
       "\n",
       "   lag_target_carbon_monoxide_6  lag_target_carbon_monoxide_7  \\\n",
       "0                           2.2                           2.2   \n",
       "1                           1.5                           2.2   \n",
       "2                           1.2                           1.5   \n",
       "\n",
       "   lag_target_carbon_monoxide_8  lag_target_carbon_monoxide_9  \\\n",
       "0                           2.1                           2.5   \n",
       "1                           2.2                           2.1   \n",
       "2                           2.2                           2.2   \n",
       "\n",
       "   lag_target_carbon_monoxide_0  hour  day  month  season  \n",
       "0                           0.6     3   11      3       2  \n",
       "1                           0.7     4   11      3       2  \n",
       "2                           0.7     5   11      3       2  \n",
       "\n",
       "[3 rows x 86 columns]"
      ]
     },
     "execution_count": 10,
     "metadata": {},
     "output_type": "execute_result"
    }
   ],
   "source": [
    "lgbm_forecast_model = tsm.ForecastModel(dt_features, df, features + [targets[0]], targets[0], prior_lag = list(range(1,10)))\n",
    "lgbm_forecast_model.forecast_prep(True)\n",
    "lgbm_data = lgbm_forecast_model.data\n",
    "lgbm_data.head(3)"
   ]
  },
  {
   "cell_type": "code",
   "execution_count": 11,
   "id": "db8759e2",
   "metadata": {},
   "outputs": [],
   "source": [
    "def mape(y, y_hat):\n",
    "    return 100*np.sum(np.abs((y - y_hat)/y))/len(y)"
   ]
  },
  {
   "cell_type": "code",
   "execution_count": 12,
   "id": "7da120c1",
   "metadata": {},
   "outputs": [],
   "source": [
    "class LGBM_Model:\n",
    "    def __init__(self, model):\n",
    "        self.model = model\n",
    "    def fit(self, X, y):\n",
    "        self.fitted_model = self.model.fit(X,y)\n",
    "        self.importances = self.fitted_model.feature_importances_\n",
    "        return self\n",
    "    def predict(self, X):\n",
    "        return self.fitted_model.predict(X)"
   ]
  },
  {
   "cell_type": "code",
   "execution_count": 13,
   "id": "b58ee95d",
   "metadata": {},
   "outputs": [],
   "source": [
    "lgbm_reg = LGBM_Model(lgbm.LGBMRegressor(max_depth = 3))\n",
    "cv_obj = tscv.CrossValid(2048, 1)\n",
    "cv_split = cv_obj.split(len(df), step = 250)"
   ]
  },
  {
   "cell_type": "code",
   "execution_count": 14,
   "id": "453b740e",
   "metadata": {},
   "outputs": [
    {
     "name": "stderr",
     "output_type": "stream",
     "text": [
      "/home/alexey/.local/lib/python3.8/site-packages/sklearn/utils/validation.py:63: DataConversionWarning: A column-vector y was passed when a 1d array was expected. Please change the shape of y to (n_samples, ), for example using ravel().\n",
      "  return f(*args, **kwargs)\n",
      "/home/alexey/.local/lib/python3.8/site-packages/sklearn/utils/validation.py:63: DataConversionWarning: A column-vector y was passed when a 1d array was expected. Please change the shape of y to (n_samples, ), for example using ravel().\n",
      "  return f(*args, **kwargs)\n",
      "/home/alexey/.local/lib/python3.8/site-packages/sklearn/utils/validation.py:63: DataConversionWarning: A column-vector y was passed when a 1d array was expected. Please change the shape of y to (n_samples, ), for example using ravel().\n",
      "  return f(*args, **kwargs)\n",
      "/home/alexey/.local/lib/python3.8/site-packages/sklearn/utils/validation.py:63: DataConversionWarning: A column-vector y was passed when a 1d array was expected. Please change the shape of y to (n_samples, ), for example using ravel().\n",
      "  return f(*args, **kwargs)\n",
      "/home/alexey/.local/lib/python3.8/site-packages/sklearn/utils/validation.py:63: DataConversionWarning: A column-vector y was passed when a 1d array was expected. Please change the shape of y to (n_samples, ), for example using ravel().\n",
      "  return f(*args, **kwargs)\n",
      "/home/alexey/.local/lib/python3.8/site-packages/sklearn/utils/validation.py:63: DataConversionWarning: A column-vector y was passed when a 1d array was expected. Please change the shape of y to (n_samples, ), for example using ravel().\n",
      "  return f(*args, **kwargs)\n",
      "/home/alexey/.local/lib/python3.8/site-packages/sklearn/utils/validation.py:63: DataConversionWarning: A column-vector y was passed when a 1d array was expected. Please change the shape of y to (n_samples, ), for example using ravel().\n",
      "  return f(*args, **kwargs)\n",
      "/home/alexey/.local/lib/python3.8/site-packages/sklearn/utils/validation.py:63: DataConversionWarning: A column-vector y was passed when a 1d array was expected. Please change the shape of y to (n_samples, ), for example using ravel().\n",
      "  return f(*args, **kwargs)\n",
      "/home/alexey/.local/lib/python3.8/site-packages/sklearn/utils/validation.py:63: DataConversionWarning: A column-vector y was passed when a 1d array was expected. Please change the shape of y to (n_samples, ), for example using ravel().\n",
      "  return f(*args, **kwargs)\n",
      "/home/alexey/.local/lib/python3.8/site-packages/sklearn/utils/validation.py:63: DataConversionWarning: A column-vector y was passed when a 1d array was expected. Please change the shape of y to (n_samples, ), for example using ravel().\n",
      "  return f(*args, **kwargs)\n",
      "/home/alexey/.local/lib/python3.8/site-packages/sklearn/utils/validation.py:63: DataConversionWarning: A column-vector y was passed when a 1d array was expected. Please change the shape of y to (n_samples, ), for example using ravel().\n",
      "  return f(*args, **kwargs)\n",
      "/home/alexey/.local/lib/python3.8/site-packages/sklearn/utils/validation.py:63: DataConversionWarning: A column-vector y was passed when a 1d array was expected. Please change the shape of y to (n_samples, ), for example using ravel().\n",
      "  return f(*args, **kwargs)\n",
      "/home/alexey/.local/lib/python3.8/site-packages/sklearn/utils/validation.py:63: DataConversionWarning: A column-vector y was passed when a 1d array was expected. Please change the shape of y to (n_samples, ), for example using ravel().\n",
      "  return f(*args, **kwargs)\n",
      "/home/alexey/.local/lib/python3.8/site-packages/sklearn/utils/validation.py:63: DataConversionWarning: A column-vector y was passed when a 1d array was expected. Please change the shape of y to (n_samples, ), for example using ravel().\n",
      "  return f(*args, **kwargs)\n",
      "/home/alexey/.local/lib/python3.8/site-packages/sklearn/utils/validation.py:63: DataConversionWarning: A column-vector y was passed when a 1d array was expected. Please change the shape of y to (n_samples, ), for example using ravel().\n",
      "  return f(*args, **kwargs)\n",
      "/home/alexey/.local/lib/python3.8/site-packages/sklearn/utils/validation.py:63: DataConversionWarning: A column-vector y was passed when a 1d array was expected. Please change the shape of y to (n_samples, ), for example using ravel().\n",
      "  return f(*args, **kwargs)\n",
      "/home/alexey/.local/lib/python3.8/site-packages/sklearn/utils/validation.py:63: DataConversionWarning: A column-vector y was passed when a 1d array was expected. Please change the shape of y to (n_samples, ), for example using ravel().\n",
      "  return f(*args, **kwargs)\n",
      "/home/alexey/.local/lib/python3.8/site-packages/sklearn/utils/validation.py:63: DataConversionWarning: A column-vector y was passed when a 1d array was expected. Please change the shape of y to (n_samples, ), for example using ravel().\n",
      "  return f(*args, **kwargs)\n",
      "/home/alexey/.local/lib/python3.8/site-packages/sklearn/utils/validation.py:63: DataConversionWarning: A column-vector y was passed when a 1d array was expected. Please change the shape of y to (n_samples, ), for example using ravel().\n",
      "  return f(*args, **kwargs)\n",
      "/home/alexey/.local/lib/python3.8/site-packages/sklearn/utils/validation.py:63: DataConversionWarning: A column-vector y was passed when a 1d array was expected. Please change the shape of y to (n_samples, ), for example using ravel().\n",
      "  return f(*args, **kwargs)\n",
      "/home/alexey/.local/lib/python3.8/site-packages/sklearn/utils/validation.py:63: DataConversionWarning: A column-vector y was passed when a 1d array was expected. Please change the shape of y to (n_samples, ), for example using ravel().\n",
      "  return f(*args, **kwargs)\n"
     ]
    }
   ],
   "source": [
    "results = tscv.new_cv(lgbm_data, lgbm_forecast_model.features + lgbm_forecast_model.date_time, \n",
    "                      lgbm_forecast_model.targets, cv_split, lgbm_reg, mape, True)"
   ]
  },
  {
   "cell_type": "code",
   "execution_count": 15,
   "id": "b8fcff34",
   "metadata": {},
   "outputs": [
    {
     "name": "stdout",
     "output_type": "stream",
     "text": [
      "train_loss 17.401399294398516\n",
      "test_loss 13.878100839842475\n"
     ]
    }
   ],
   "source": [
    "print('train_loss',np.mean(results['train_loss']))\n",
    "print('test_loss',np.mean(results['test_loss']))"
   ]
  },
  {
   "cell_type": "code",
   "execution_count": 16,
   "id": "41f6b52f",
   "metadata": {},
   "outputs": [
    {
     "data": {
      "text/plain": [
       "[18.016489641259152,\n",
       " 18.24155593076042,\n",
       " 18.653227817117735,\n",
       " 20.076222214888087,\n",
       " 19.13448315020091,\n",
       " 19.55711449869083,\n",
       " 18.045763949184067,\n",
       " 17.6071664984707,\n",
       " 16.198362148361078,\n",
       " 16.156471763220704,\n",
       " 16.17785836436842,\n",
       " 16.5264855217635,\n",
       " 15.916255942759738,\n",
       " 15.756647342684065,\n",
       " 15.544858290453591,\n",
       " 16.2298971032653,\n",
       " 16.882024858670665,\n",
       " 17.612038190135216,\n",
       " 17.553753780169558,\n",
       " 17.655443973587737,\n",
       " 17.88726420235733]"
      ]
     },
     "execution_count": 16,
     "metadata": {},
     "output_type": "execute_result"
    }
   ],
   "source": [
    "results['train_loss']"
   ]
  },
  {
   "cell_type": "code",
   "execution_count": 17,
   "id": "b5926bbc",
   "metadata": {},
   "outputs": [
    {
     "data": {
      "text/plain": [
       "[30.47116890675929,\n",
       " 18.03385250747214,\n",
       " 16.84930997406323,\n",
       " 27.154844276739194,\n",
       " 2.526919788548644,\n",
       " 3.9907745419245586,\n",
       " 23.035408214994703,\n",
       " 14.400369847461262,\n",
       " 9.678982194196074,\n",
       " 17.20391559253836,\n",
       " 6.057294183780046,\n",
       " 14.91636244362817,\n",
       " 17.879334509217607,\n",
       " 14.59158713649009,\n",
       " 3.225696165661307,\n",
       " 4.644181675787534,\n",
       " 0.056897107041541516,\n",
       " 7.489192352885765,\n",
       " 18.79646332078455,\n",
       " 26.288363859938123,\n",
       " 14.149199036779825]"
      ]
     },
     "execution_count": 17,
     "metadata": {},
     "output_type": "execute_result"
    }
   ],
   "source": [
    "results['test_loss']"
   ]
  },
  {
   "cell_type": "code",
   "execution_count": 18,
   "id": "56454389",
   "metadata": {},
   "outputs": [],
   "source": [
    "params = lgbm_forecast_model.get_params()"
   ]
  },
  {
   "cell_type": "code",
   "execution_count": 19,
   "id": "3268c0f9",
   "metadata": {},
   "outputs": [],
   "source": [
    "from functools import reduce"
   ]
  },
  {
   "cell_type": "code",
   "execution_count": 20,
   "id": "c53e9848",
   "metadata": {},
   "outputs": [],
   "source": [
    "def squeeze(arr):\n",
    "    return reduce(lambda x,y : x + y, arr) / len(arr)"
   ]
  },
  {
   "cell_type": "code",
   "execution_count": 21,
   "id": "62ae13ce",
   "metadata": {},
   "outputs": [],
   "source": [
    "lgbm_importances = squeeze(results['importances']).sort_values(ascending = False)"
   ]
  },
  {
   "cell_type": "code",
   "execution_count": 29,
   "id": "8ea48d41",
   "metadata": {},
   "outputs": [
    {
     "data": {
      "text/plain": [
       "hour                            75.761905\n",
       "lag_target_carbon_monoxide_1    50.190476\n",
       "lag_sensor_2_1                  28.714286\n",
       "lag_sensor_1_1                  25.000000\n",
       "lag_sensor_5_1                  15.666667\n",
       "lag_sensor_3_1                  15.095238\n",
       "lag_deg_C_9                     13.571429\n",
       "lag_sensor_5_9                  13.476190\n",
       "lag_sensor_4_1                  12.809524\n",
       "lag_sensor_2_3                  11.333333\n",
       "lag_target_carbon_monoxide_2    10.904762\n",
       "lag_sensor_1_2                  10.095238\n",
       "lag_sensor_2_2                   9.857143\n",
       "lag_sensor_1_3                   9.285714\n",
       "lag_sensor_2_4                   8.714286\n",
       "lag_relative_humidity_9          8.714286\n",
       "lag_target_carbon_monoxide_3     8.142857\n",
       "lag_relative_humidity_1          7.714286\n",
       "lag_sensor_2_9                   7.571429\n",
       "lag_sensor_4_2                   7.190476\n",
       "lag_sensor_3_2                   7.142857\n",
       "day                              6.904762\n",
       "lag_sensor_5_8                   6.904762\n",
       "lag_target_carbon_monoxide_4     6.809524\n",
       "lag_sensor_5_6                   6.809524\n",
       "lag_sensor_2_5                   6.761905\n",
       "lag_sensor_5_2                   6.095238\n",
       "lag_sensor_3_3                   5.523810\n",
       "lag_target_carbon_monoxide_9     5.285714\n",
       "lag_deg_C_2                      5.238095\n",
       "lag_deg_C_1                      5.190476\n",
       "lag_sensor_3_4                   5.047619\n",
       "lag_sensor_5_7                   4.952381\n",
       "lag_target_carbon_monoxide_5     4.904762\n",
       "lag_sensor_1_8                   4.809524\n",
       "lag_sensor_2_6                   4.666667\n",
       "lag_relative_humidity_6          4.619048\n",
       "lag_sensor_2_7                   4.523810\n",
       "lag_relative_humidity_3          4.523810\n",
       "month                            4.428571\n",
       "lag_sensor_1_4                   4.428571\n",
       "lag_sensor_3_9                   4.380952\n",
       "lag_sensor_4_4                   4.285714\n",
       "lag_absolute_humidity_3          4.285714\n",
       "lag_absolute_humidity_1          4.238095\n",
       "lag_sensor_1_5                   4.190476\n",
       "lag_target_carbon_monoxide_8     3.952381\n",
       "lag_sensor_1_9                   3.761905\n",
       "lag_sensor_4_8                   3.619048\n",
       "lag_relative_humidity_7          3.571429\n",
       "lag_deg_C_5                      3.571429\n",
       "lag_sensor_5_3                   3.571429\n",
       "lag_deg_C_3                      3.476190\n",
       "lag_sensor_3_6                   3.476190\n",
       "lag_sensor_4_3                   3.428571\n",
       "lag_target_carbon_monoxide_6     3.428571\n",
       "lag_sensor_4_5                   3.380952\n",
       "lag_sensor_5_5                   3.380952\n",
       "lag_deg_C_7                      3.285714\n",
       "lag_sensor_1_7                   3.190476\n",
       "dtype: float64"
      ]
     },
     "execution_count": 29,
     "metadata": {},
     "output_type": "execute_result"
    }
   ],
   "source": [
    "lgbm_importances.head(60)"
   ]
  },
  {
   "cell_type": "code",
   "execution_count": 23,
   "id": "33f8bb16",
   "metadata": {},
   "outputs": [],
   "source": [
    "rcParams['figure.figsize'] = 30, 8"
   ]
  }
 ],
 "metadata": {
  "kernelspec": {
   "display_name": "Python 3 (ipykernel)",
   "language": "python",
   "name": "python3"
  },
  "language_info": {
   "codemirror_mode": {
    "name": "ipython",
    "version": 3
   },
   "file_extension": ".py",
   "mimetype": "text/x-python",
   "name": "python",
   "nbconvert_exporter": "python",
   "pygments_lexer": "ipython3",
   "version": "3.8.10"
  }
 },
 "nbformat": 4,
 "nbformat_minor": 5
}
